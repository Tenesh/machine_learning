{
 "cells": [
  {
   "cell_type": "markdown",
   "metadata": {},
   "source": [
    "# Predicting heart disease using machine learning\n",
    "\n",
    "This notebook looks into using various Python-based machine learning and data science libraries in an attempt to build a machine learning model to identify if a patient has heart-disease or not.\n",
    "\n",
    "We're going to the following approach:\n",
    "1. Problem definition\n",
    "2. Data\n",
    "3. Evaluation\n",
    "4. Features\n",
    "5. Modelling\n",
    "6. Experimentation\n",
    "\n",
    "## 1. Problem Definition\n",
    "\n",
    "In a statement,\n",
    "> Given clinical paramaters about a patient, can we predict if the patient has heart disease or not?\n",
    "\n",
    "## 2. Data\n",
    "\n",
    "The original data came from the Cleavland data from UCI ML repository.\n",
    "https://archive.ics.uci.edu/ml/datasets/Heart+Disease\n",
    "\n",
    "## 3. Evaluation\n",
    "\n",
    "> If we can reach 95% accuracy at predicting during proof of concept, we will pursue the project.\n",
    "\n",
    "## 4. Features\n",
    "\n",
    "**Create data dictionary**\n",
    "\n",
    "Attribute Information:\n",
    "\n",
    "Only 14 attributes used:\n",
    "1. (age)\n",
    "2. (sex)\n",
    "3. (cp)\n",
    "4. (trestbps)\n",
    "5. (chol)\n",
    "6. (fbs)\n",
    "7. (restecg)\n",
    "8. (thalach)\n",
    "9. (exang)\n",
    "10. (oldpeak)\n",
    "11. (slope)\n",
    "12. (ca)\n",
    "13. (thal)\n",
    "14. (num) (the predicted attribute)"
   ]
  },
  {
   "cell_type": "markdown",
   "metadata": {},
   "source": [
    "### 4.1 Preparing the tools\n",
    "\n",
    "We're going to use pandas, Matplotlib and Numpy for data analysis and manipulation."
   ]
  },
  {
   "cell_type": "code",
   "execution_count": 156,
   "metadata": {},
   "outputs": [],
   "source": [
    "# Import all the tools we need\n",
    "\n",
    "# Regular EDA (exploratory data analysis) and plotting libraries\n",
    "import numpy as np\n",
    "import pandas as pd\n",
    "import matplotlib.pyplot as plt\n",
    "import seaborn as sns\n",
    "\n",
    "%matplotlib inline\n",
    "\n",
    "# Models from Scikit-Learn\n",
    "from sklearn.linear_model import LogisticRegression\n",
    "from sklearn.neighbors import KNeighborsClassifier\n",
    "from sklearn.ensemble import RandomForestClassifier\n",
    "\n",
    "# Model Evaluations\n",
    "from sklearn.model_selection import train_test_split, cross_val_score\n",
    "from sklearn.model_selection import RandomizedSearchCV, GridSearchCV\n",
    "from sklearn.metrics import confusion_matrix, classification_report\n",
    "from sklearn.metrics import precision_score, recall_score, f1_score\n",
    "from sklearn.metrics import plot_roc_curve"
   ]
  },
  {
   "cell_type": "markdown",
   "metadata": {},
   "source": [
    "### 4.2 Load data"
   ]
  },
  {
   "cell_type": "code",
   "execution_count": 157,
   "metadata": {},
   "outputs": [
    {
     "data": {
      "text/plain": [
       "(303, 14)"
      ]
     },
     "execution_count": 157,
     "metadata": {},
     "output_type": "execute_result"
    }
   ],
   "source": [
    "df = pd.read_csv(\"data/heart-disease.csv\")\n",
    "df.shape # (rows, columns)"
   ]
  },
  {
   "cell_type": "markdown",
   "metadata": {},
   "source": [
    "### 4.3 Data Exploration (exploratory data analysis or EDA)\n",
    "\n",
    "The goal here is to find out more about the data and become subject matter expert on the dataset you are working with.\n",
    "\n",
    "1. What questions(s) are you trying to solve?\n",
    "2. What kind of data do we have and how do we treat different types?\n",
    "3. What's missing from the data and how do you deal with it?\n",
    "4. Where are the outliers and why should you care about them?\n",
    "5. How can you add, change or remove features to get more out of your data?"
   ]
  },
  {
   "cell_type": "code",
   "execution_count": 5,
   "metadata": {},
   "outputs": [
    {
     "data": {
      "text/html": [
       "<div>\n",
       "<style scoped>\n",
       "    .dataframe tbody tr th:only-of-type {\n",
       "        vertical-align: middle;\n",
       "    }\n",
       "\n",
       "    .dataframe tbody tr th {\n",
       "        vertical-align: top;\n",
       "    }\n",
       "\n",
       "    .dataframe thead th {\n",
       "        text-align: right;\n",
       "    }\n",
       "</style>\n",
       "<table border=\"1\" class=\"dataframe\">\n",
       "  <thead>\n",
       "    <tr style=\"text-align: right;\">\n",
       "      <th></th>\n",
       "      <th>age</th>\n",
       "      <th>sex</th>\n",
       "      <th>cp</th>\n",
       "      <th>trestbps</th>\n",
       "      <th>chol</th>\n",
       "      <th>fbs</th>\n",
       "      <th>restecg</th>\n",
       "      <th>thalach</th>\n",
       "      <th>exang</th>\n",
       "      <th>oldpeak</th>\n",
       "      <th>slope</th>\n",
       "      <th>ca</th>\n",
       "      <th>thal</th>\n",
       "      <th>target</th>\n",
       "    </tr>\n",
       "  </thead>\n",
       "  <tbody>\n",
       "    <tr>\n",
       "      <th>0</th>\n",
       "      <td>63</td>\n",
       "      <td>1</td>\n",
       "      <td>3</td>\n",
       "      <td>145</td>\n",
       "      <td>233</td>\n",
       "      <td>1</td>\n",
       "      <td>0</td>\n",
       "      <td>150</td>\n",
       "      <td>0</td>\n",
       "      <td>2.3</td>\n",
       "      <td>0</td>\n",
       "      <td>0</td>\n",
       "      <td>1</td>\n",
       "      <td>1</td>\n",
       "    </tr>\n",
       "    <tr>\n",
       "      <th>1</th>\n",
       "      <td>37</td>\n",
       "      <td>1</td>\n",
       "      <td>2</td>\n",
       "      <td>130</td>\n",
       "      <td>250</td>\n",
       "      <td>0</td>\n",
       "      <td>1</td>\n",
       "      <td>187</td>\n",
       "      <td>0</td>\n",
       "      <td>3.5</td>\n",
       "      <td>0</td>\n",
       "      <td>0</td>\n",
       "      <td>2</td>\n",
       "      <td>1</td>\n",
       "    </tr>\n",
       "    <tr>\n",
       "      <th>2</th>\n",
       "      <td>41</td>\n",
       "      <td>0</td>\n",
       "      <td>1</td>\n",
       "      <td>130</td>\n",
       "      <td>204</td>\n",
       "      <td>0</td>\n",
       "      <td>0</td>\n",
       "      <td>172</td>\n",
       "      <td>0</td>\n",
       "      <td>1.4</td>\n",
       "      <td>2</td>\n",
       "      <td>0</td>\n",
       "      <td>2</td>\n",
       "      <td>1</td>\n",
       "    </tr>\n",
       "    <tr>\n",
       "      <th>3</th>\n",
       "      <td>56</td>\n",
       "      <td>1</td>\n",
       "      <td>1</td>\n",
       "      <td>120</td>\n",
       "      <td>236</td>\n",
       "      <td>0</td>\n",
       "      <td>1</td>\n",
       "      <td>178</td>\n",
       "      <td>0</td>\n",
       "      <td>0.8</td>\n",
       "      <td>2</td>\n",
       "      <td>0</td>\n",
       "      <td>2</td>\n",
       "      <td>1</td>\n",
       "    </tr>\n",
       "    <tr>\n",
       "      <th>4</th>\n",
       "      <td>57</td>\n",
       "      <td>0</td>\n",
       "      <td>0</td>\n",
       "      <td>120</td>\n",
       "      <td>354</td>\n",
       "      <td>0</td>\n",
       "      <td>1</td>\n",
       "      <td>163</td>\n",
       "      <td>1</td>\n",
       "      <td>0.6</td>\n",
       "      <td>2</td>\n",
       "      <td>0</td>\n",
       "      <td>2</td>\n",
       "      <td>1</td>\n",
       "    </tr>\n",
       "  </tbody>\n",
       "</table>\n",
       "</div>"
      ],
      "text/plain": [
       "   age  sex  cp  trestbps  chol  fbs  restecg  thalach  exang  oldpeak  slope  \\\n",
       "0   63    1   3       145   233    1        0      150      0      2.3      0   \n",
       "1   37    1   2       130   250    0        1      187      0      3.5      0   \n",
       "2   41    0   1       130   204    0        0      172      0      1.4      2   \n",
       "3   56    1   1       120   236    0        1      178      0      0.8      2   \n",
       "4   57    0   0       120   354    0        1      163      1      0.6      2   \n",
       "\n",
       "   ca  thal  target  \n",
       "0   0     1       1  \n",
       "1   0     2       1  \n",
       "2   0     2       1  \n",
       "3   0     2       1  \n",
       "4   0     2       1  "
      ]
     },
     "execution_count": 5,
     "metadata": {},
     "output_type": "execute_result"
    }
   ],
   "source": [
    "df.head()"
   ]
  },
  {
   "cell_type": "code",
   "execution_count": 6,
   "metadata": {},
   "outputs": [
    {
     "data": {
      "text/html": [
       "<div>\n",
       "<style scoped>\n",
       "    .dataframe tbody tr th:only-of-type {\n",
       "        vertical-align: middle;\n",
       "    }\n",
       "\n",
       "    .dataframe tbody tr th {\n",
       "        vertical-align: top;\n",
       "    }\n",
       "\n",
       "    .dataframe thead th {\n",
       "        text-align: right;\n",
       "    }\n",
       "</style>\n",
       "<table border=\"1\" class=\"dataframe\">\n",
       "  <thead>\n",
       "    <tr style=\"text-align: right;\">\n",
       "      <th></th>\n",
       "      <th>age</th>\n",
       "      <th>sex</th>\n",
       "      <th>cp</th>\n",
       "      <th>trestbps</th>\n",
       "      <th>chol</th>\n",
       "      <th>fbs</th>\n",
       "      <th>restecg</th>\n",
       "      <th>thalach</th>\n",
       "      <th>exang</th>\n",
       "      <th>oldpeak</th>\n",
       "      <th>slope</th>\n",
       "      <th>ca</th>\n",
       "      <th>thal</th>\n",
       "      <th>target</th>\n",
       "    </tr>\n",
       "  </thead>\n",
       "  <tbody>\n",
       "    <tr>\n",
       "      <th>298</th>\n",
       "      <td>57</td>\n",
       "      <td>0</td>\n",
       "      <td>0</td>\n",
       "      <td>140</td>\n",
       "      <td>241</td>\n",
       "      <td>0</td>\n",
       "      <td>1</td>\n",
       "      <td>123</td>\n",
       "      <td>1</td>\n",
       "      <td>0.2</td>\n",
       "      <td>1</td>\n",
       "      <td>0</td>\n",
       "      <td>3</td>\n",
       "      <td>0</td>\n",
       "    </tr>\n",
       "    <tr>\n",
       "      <th>299</th>\n",
       "      <td>45</td>\n",
       "      <td>1</td>\n",
       "      <td>3</td>\n",
       "      <td>110</td>\n",
       "      <td>264</td>\n",
       "      <td>0</td>\n",
       "      <td>1</td>\n",
       "      <td>132</td>\n",
       "      <td>0</td>\n",
       "      <td>1.2</td>\n",
       "      <td>1</td>\n",
       "      <td>0</td>\n",
       "      <td>3</td>\n",
       "      <td>0</td>\n",
       "    </tr>\n",
       "    <tr>\n",
       "      <th>300</th>\n",
       "      <td>68</td>\n",
       "      <td>1</td>\n",
       "      <td>0</td>\n",
       "      <td>144</td>\n",
       "      <td>193</td>\n",
       "      <td>1</td>\n",
       "      <td>1</td>\n",
       "      <td>141</td>\n",
       "      <td>0</td>\n",
       "      <td>3.4</td>\n",
       "      <td>1</td>\n",
       "      <td>2</td>\n",
       "      <td>3</td>\n",
       "      <td>0</td>\n",
       "    </tr>\n",
       "    <tr>\n",
       "      <th>301</th>\n",
       "      <td>57</td>\n",
       "      <td>1</td>\n",
       "      <td>0</td>\n",
       "      <td>130</td>\n",
       "      <td>131</td>\n",
       "      <td>0</td>\n",
       "      <td>1</td>\n",
       "      <td>115</td>\n",
       "      <td>1</td>\n",
       "      <td>1.2</td>\n",
       "      <td>1</td>\n",
       "      <td>1</td>\n",
       "      <td>3</td>\n",
       "      <td>0</td>\n",
       "    </tr>\n",
       "    <tr>\n",
       "      <th>302</th>\n",
       "      <td>57</td>\n",
       "      <td>0</td>\n",
       "      <td>1</td>\n",
       "      <td>130</td>\n",
       "      <td>236</td>\n",
       "      <td>0</td>\n",
       "      <td>0</td>\n",
       "      <td>174</td>\n",
       "      <td>0</td>\n",
       "      <td>0.0</td>\n",
       "      <td>1</td>\n",
       "      <td>1</td>\n",
       "      <td>2</td>\n",
       "      <td>0</td>\n",
       "    </tr>\n",
       "  </tbody>\n",
       "</table>\n",
       "</div>"
      ],
      "text/plain": [
       "     age  sex  cp  trestbps  chol  fbs  restecg  thalach  exang  oldpeak  \\\n",
       "298   57    0   0       140   241    0        1      123      1      0.2   \n",
       "299   45    1   3       110   264    0        1      132      0      1.2   \n",
       "300   68    1   0       144   193    1        1      141      0      3.4   \n",
       "301   57    1   0       130   131    0        1      115      1      1.2   \n",
       "302   57    0   1       130   236    0        0      174      0      0.0   \n",
       "\n",
       "     slope  ca  thal  target  \n",
       "298      1   0     3       0  \n",
       "299      1   0     3       0  \n",
       "300      1   2     3       0  \n",
       "301      1   1     3       0  \n",
       "302      1   1     2       0  "
      ]
     },
     "execution_count": 6,
     "metadata": {},
     "output_type": "execute_result"
    }
   ],
   "source": [
    "df.tail()"
   ]
  },
  {
   "cell_type": "code",
   "execution_count": 7,
   "metadata": {},
   "outputs": [
    {
     "data": {
      "text/plain": [
       "1    165\n",
       "0    138\n",
       "Name: target, dtype: int64"
      ]
     },
     "execution_count": 7,
     "metadata": {},
     "output_type": "execute_result"
    }
   ],
   "source": [
    "# Let's find out how many of each class there?\n",
    "df['target'].value_counts()"
   ]
  },
  {
   "cell_type": "code",
   "execution_count": 9,
   "metadata": {},
   "outputs": [
    {
     "data": {
      "image/png": "[encoded data removed]",
      "text/plain": [
       "<Figure size 432x288 with 1 Axes>"
      ]
     },
     "metadata": {
      "needs_background": "light"
     },
     "output_type": "display_data"
    }
   ],
   "source": [
    "df['target'].value_counts().plot(kind=\"bar\", color=[\"salmon\", \"lightblue\"]);"
   ]
  },
  {
   "cell_type": "code",
   "execution_count": 10,
   "metadata": {},
   "outputs": [
    {
     "name": "stdout",
     "output_type": "stream",
     "text": [
      "<class 'pandas.core.frame.DataFrame'>\n",
      "RangeIndex: 303 entries, 0 to 302\n",
      "Data columns (total 14 columns):\n",
      " #   Column    Non-Null Count  Dtype  \n",
      "---  ------    --------------  -----  \n",
      " 0   age       303 non-null    int64  \n",
      " 1   sex       303 non-null    int64  \n",
      " 2   cp        303 non-null    int64  \n",
      " 3   trestbps  303 non-null    int64  \n",
      " 4   chol      303 non-null    int64  \n",
      " 5   fbs       303 non-null    int64  \n",
      " 6   restecg   303 non-null    int64  \n",
      " 7   thalach   303 non-null    int64  \n",
      " 8   exang     303 non-null    int64  \n",
      " 9   oldpeak   303 non-null    float64\n",
      " 10  slope     303 non-null    int64  \n",
      " 11  ca        303 non-null    int64  \n",
      " 12  thal      303 non-null    int64  \n",
      " 13  target    303 non-null    int64  \n",
      "dtypes: float64(1), int64(13)\n",
      "memory usage: 33.3 KB\n"
     ]
    }
   ],
   "source": [
    "df.info()"
   ]
  },
  {
   "cell_type": "code",
   "execution_count": 13,
   "metadata": {},
   "outputs": [
    {
     "data": {
      "text/plain": [
       "age         0\n",
       "sex         0\n",
       "cp          0\n",
       "trestbps    0\n",
       "chol        0\n",
       "fbs         0\n",
       "restecg     0\n",
       "thalach     0\n",
       "exang       0\n",
       "oldpeak     0\n",
       "slope       0\n",
       "ca          0\n",
       "thal        0\n",
       "target      0\n",
       "dtype: int64"
      ]
     },
     "execution_count": 13,
     "metadata": {},
     "output_type": "execute_result"
    }
   ],
   "source": [
    "# Are there any missing values?\n",
    "df.isna().sum()"
   ]
  },
  {
   "cell_type": "code",
   "execution_count": 14,
   "metadata": {},
   "outputs": [
    {
     "data": {
      "text/html": [
       "<div>\n",
       "<style scoped>\n",
       "    .dataframe tbody tr th:only-of-type {\n",
       "        vertical-align: middle;\n",
       "    }\n",
       "\n",
       "    .dataframe tbody tr th {\n",
       "        vertical-align: top;\n",
       "    }\n",
       "\n",
       "    .dataframe thead th {\n",
       "        text-align: right;\n",
       "    }\n",
       "</style>\n",
       "<table border=\"1\" class=\"dataframe\">\n",
       "  <thead>\n",
       "    <tr style=\"text-align: right;\">\n",
       "      <th></th>\n",
       "      <th>age</th>\n",
       "      <th>sex</th>\n",
       "      <th>cp</th>\n",
       "      <th>trestbps</th>\n",
       "      <th>chol</th>\n",
       "      <th>fbs</th>\n",
       "      <th>restecg</th>\n",
       "      <th>thalach</th>\n",
       "      <th>exang</th>\n",
       "      <th>oldpeak</th>\n",
       "      <th>slope</th>\n",
       "      <th>ca</th>\n",
       "      <th>thal</th>\n",
       "      <th>target</th>\n",
       "    </tr>\n",
       "  </thead>\n",
       "  <tbody>\n",
       "    <tr>\n",
       "      <th>count</th>\n",
       "      <td>303.000000</td>\n",
       "      <td>303.000000</td>\n",
       "      <td>303.000000</td>\n",
       "      <td>303.000000</td>\n",
       "      <td>303.000000</td>\n",
       "      <td>303.000000</td>\n",
       "      <td>303.000000</td>\n",
       "      <td>303.000000</td>\n",
       "      <td>303.000000</td>\n",
       "      <td>303.000000</td>\n",
       "      <td>303.000000</td>\n",
       "      <td>303.000000</td>\n",
       "      <td>303.000000</td>\n",
       "      <td>303.000000</td>\n",
       "    </tr>\n",
       "    <tr>\n",
       "      <th>mean</th>\n",
       "      <td>54.366337</td>\n",
       "      <td>0.683168</td>\n",
       "      <td>0.966997</td>\n",
       "      <td>131.623762</td>\n",
       "      <td>246.264026</td>\n",
       "      <td>0.148515</td>\n",
       "      <td>0.528053</td>\n",
       "      <td>149.646865</td>\n",
       "      <td>0.326733</td>\n",
       "      <td>1.039604</td>\n",
       "      <td>1.399340</td>\n",
       "      <td>0.729373</td>\n",
       "      <td>2.313531</td>\n",
       "      <td>0.544554</td>\n",
       "    </tr>\n",
       "    <tr>\n",
       "      <th>std</th>\n",
       "      <td>9.082101</td>\n",
       "      <td>0.466011</td>\n",
       "      <td>1.032052</td>\n",
       "      <td>17.538143</td>\n",
       "      <td>51.830751</td>\n",
       "      <td>0.356198</td>\n",
       "      <td>0.525860</td>\n",
       "      <td>22.905161</td>\n",
       "      <td>0.469794</td>\n",
       "      <td>1.161075</td>\n",
       "      <td>0.616226</td>\n",
       "      <td>1.022606</td>\n",
       "      <td>0.612277</td>\n",
       "      <td>0.498835</td>\n",
       "    </tr>\n",
       "    <tr>\n",
       "      <th>min</th>\n",
       "      <td>29.000000</td>\n",
       "      <td>0.000000</td>\n",
       "      <td>0.000000</td>\n",
       "      <td>94.000000</td>\n",
       "      <td>126.000000</td>\n",
       "      <td>0.000000</td>\n",
       "      <td>0.000000</td>\n",
       "      <td>71.000000</td>\n",
       "      <td>0.000000</td>\n",
       "      <td>0.000000</td>\n",
       "      <td>0.000000</td>\n",
       "      <td>0.000000</td>\n",
       "      <td>0.000000</td>\n",
       "      <td>0.000000</td>\n",
       "    </tr>\n",
       "    <tr>\n",
       "      <th>25%</th>\n",
       "      <td>47.500000</td>\n",
       "      <td>0.000000</td>\n",
       "      <td>0.000000</td>\n",
       "      <td>120.000000</td>\n",
       "      <td>211.000000</td>\n",
       "      <td>0.000000</td>\n",
       "      <td>0.000000</td>\n",
       "      <td>133.500000</td>\n",
       "      <td>0.000000</td>\n",
       "      <td>0.000000</td>\n",
       "      <td>1.000000</td>\n",
       "      <td>0.000000</td>\n",
       "      <td>2.000000</td>\n",
       "      <td>0.000000</td>\n",
       "    </tr>\n",
       "    <tr>\n",
       "      <th>50%</th>\n",
       "      <td>55.000000</td>\n",
       "      <td>1.000000</td>\n",
       "      <td>1.000000</td>\n",
       "      <td>130.000000</td>\n",
       "      <td>240.000000</td>\n",
       "      <td>0.000000</td>\n",
       "      <td>1.000000</td>\n",
       "      <td>153.000000</td>\n",
       "      <td>0.000000</td>\n",
       "      <td>0.800000</td>\n",
       "      <td>1.000000</td>\n",
       "      <td>0.000000</td>\n",
       "      <td>2.000000</td>\n",
       "      <td>1.000000</td>\n",
       "    </tr>\n",
       "    <tr>\n",
       "      <th>75%</th>\n",
       "      <td>61.000000</td>\n",
       "      <td>1.000000</td>\n",
       "      <td>2.000000</td>\n",
       "      <td>140.000000</td>\n",
       "      <td>274.500000</td>\n",
       "      <td>0.000000</td>\n",
       "      <td>1.000000</td>\n",
       "      <td>166.000000</td>\n",
       "      <td>1.000000</td>\n",
       "      <td>1.600000</td>\n",
       "      <td>2.000000</td>\n",
       "      <td>1.000000</td>\n",
       "      <td>3.000000</td>\n",
       "      <td>1.000000</td>\n",
       "    </tr>\n",
       "    <tr>\n",
       "      <th>max</th>\n",
       "      <td>77.000000</td>\n",
       "      <td>1.000000</td>\n",
       "      <td>3.000000</td>\n",
       "      <td>200.000000</td>\n",
       "      <td>564.000000</td>\n",
       "      <td>1.000000</td>\n",
       "      <td>2.000000</td>\n",
       "      <td>202.000000</td>\n",
       "      <td>1.000000</td>\n",
       "      <td>6.200000</td>\n",
       "      <td>2.000000</td>\n",
       "      <td>4.000000</td>\n",
       "      <td>3.000000</td>\n",
       "      <td>1.000000</td>\n",
       "    </tr>\n",
       "  </tbody>\n",
       "</table>\n",
       "</div>"
      ],
      "text/plain": [
       "              age         sex          cp    trestbps        chol         fbs  \\\n",
       "count  303.000000  303.000000  303.000000  303.000000  303.000000  303.000000   \n",
       "mean    54.366337    0.683168    0.966997  131.623762  246.264026    0.148515   \n",
       "std      9.082101    0.466011    1.032052   17.538143   51.830751    0.356198   \n",
       "min     29.000000    0.000000    0.000000   94.000000  126.000000    0.000000   \n",
       "25%     47.500000    0.000000    0.000000  120.000000  211.000000    0.000000   \n",
       "50%     55.000000    1.000000    1.000000  130.000000  240.000000    0.000000   \n",
       "75%     61.000000    1.000000    2.000000  140.000000  274.500000    0.000000   \n",
       "max     77.000000    1.000000    3.000000  200.000000  564.000000    1.000000   \n",
       "\n",
       "          restecg     thalach       exang     oldpeak       slope          ca  \\\n",
       "count  303.000000  303.000000  303.000000  303.000000  303.000000  303.000000   \n",
       "mean     0.528053  149.646865    0.326733    1.039604    1.399340    0.729373   \n",
       "std      0.525860   22.905161    0.469794    1.161075    0.616226    1.022606   \n",
       "min      0.000000   71.000000    0.000000    0.000000    0.000000    0.000000   \n",
       "25%      0.000000  133.500000    0.000000    0.000000    1.000000    0.000000   \n",
       "50%      1.000000  153.000000    0.000000    0.800000    1.000000    0.000000   \n",
       "75%      1.000000  166.000000    1.000000    1.600000    2.000000    1.000000   \n",
       "max      2.000000  202.000000    1.000000    6.200000    2.000000    4.000000   \n",
       "\n",
       "             thal      target  \n",
       "count  303.000000  303.000000  \n",
       "mean     2.313531    0.544554  \n",
       "std      0.612277    0.498835  \n",
       "min      0.000000    0.000000  \n",
       "25%      2.000000    0.000000  \n",
       "50%      2.000000    1.000000  \n",
       "75%      3.000000    1.000000  \n",
       "max      3.000000    1.000000  "
      ]
     },
     "execution_count": 14,
     "metadata": {},
     "output_type": "execute_result"
    }
   ],
   "source": [
    "df.describe()"
   ]
  },
  {
   "cell_type": "markdown",
   "metadata": {},
   "source": [
    "### Heart Disease Frequency according to Sex"
   ]
  },
  {
   "cell_type": "code",
   "execution_count": 16,
   "metadata": {},
   "outputs": [
    {
     "data": {
      "text/plain": [
       "1    207\n",
       "0     96\n",
       "Name: sex, dtype: int64"
      ]
     },
     "execution_count": 16,
     "metadata": {},
     "output_type": "execute_result"
    }
   ],
   "source": [
    "df.sex.value_counts() # 1 male, 0 female"
   ]
  },
  {
   "cell_type": "code",
   "execution_count": 17,
   "metadata": {},
   "outputs": [
    {
     "data": {
      "text/html": [
       "<div>\n",
       "<style scoped>\n",
       "    .dataframe tbody tr th:only-of-type {\n",
       "        vertical-align: middle;\n",
       "    }\n",
       "\n",
       "    .dataframe tbody tr th {\n",
       "        vertical-align: top;\n",
       "    }\n",
       "\n",
       "    .dataframe thead th {\n",
       "        text-align: right;\n",
       "    }\n",
       "</style>\n",
       "<table border=\"1\" class=\"dataframe\">\n",
       "  <thead>\n",
       "    <tr style=\"text-align: right;\">\n",
       "      <th>sex</th>\n",
       "      <th>0</th>\n",
       "      <th>1</th>\n",
       "    </tr>\n",
       "    <tr>\n",
       "      <th>target</th>\n",
       "      <th></th>\n",
       "      <th></th>\n",
       "    </tr>\n",
       "  </thead>\n",
       "  <tbody>\n",
       "    <tr>\n",
       "      <th>0</th>\n",
       "      <td>24</td>\n",
       "      <td>114</td>\n",
       "    </tr>\n",
       "    <tr>\n",
       "      <th>1</th>\n",
       "      <td>72</td>\n",
       "      <td>93</td>\n",
       "    </tr>\n",
       "  </tbody>\n",
       "</table>\n",
       "</div>"
      ],
      "text/plain": [
       "sex      0    1\n",
       "target         \n",
       "0       24  114\n",
       "1       72   93"
      ]
     },
     "execution_count": 17,
     "metadata": {},
     "output_type": "execute_result"
    }
   ],
   "source": [
    "# Compare target column with sex column\n",
    "pd.crosstab(df.target, df.sex)"
   ]
  },
  {
   "cell_type": "code",
   "execution_count": 18,
   "metadata": {},
   "outputs": [
    {
     "data": {
      "image/png": "[encoded data removed]",
      "text/plain": [
       "<Figure size 432x288 with 1 Axes>"
      ]
     },
     "metadata": {
      "needs_background": "light"
     },
     "output_type": "display_data"
    }
   ],
   "source": [
    "pd.crosstab(df.target, df.sex).plot(kind=\"bar\", color=[\"salmon\", \"lightblue\"]);"
   ]
  },
  {
   "cell_type": "markdown",
   "metadata": {},
   "source": [
    "### Age vs Max Heart Rate for Heart Disease"
   ]
  },
  {
   "cell_type": "code",
   "execution_count": 25,
   "metadata": {},
   "outputs": [
    {
     "data": {
      "image/png": "[encoded data removed]",
      "text/plain": [
       "<Figure size 720x432 with 1 Axes>"
      ]
     },
     "metadata": {
      "needs_background": "light"
     },
     "output_type": "display_data"
    }
   ],
   "source": [
    "# Create another figure\n",
    "plt.figure(figsize=(10,6))\n",
    "\n",
    "# Scatter with positive examples\n",
    "plt.scatter(df.age[df.target==1],\n",
    "           df.thalach[df.target==1],\n",
    "           color='salmon')\n",
    "\n",
    "# Scatter with negative examples\n",
    "plt.scatter(df.age[df.target==0],\n",
    "           df.thalach[df.target==0],\n",
    "           color='lightblue')\n",
    "\n",
    "# Add some info\n",
    "plt.title(\"Heart Disease in function of Age and Max Heart Rate\")\n",
    "plt.xlabel(\"Age\")\n",
    "plt.ylabel(\"Max Heart Rate\")\n",
    "plt.legend([\"Disease\", \"No Disease\"]);"
   ]
  },
  {
   "cell_type": "code",
   "execution_count": 26,
   "metadata": {},
   "outputs": [
    {
     "data": {
      "image/png": "[encoded data removed]",
      "text/plain": [
       "<Figure size 432x288 with 1 Axes>"
      ]
     },
     "metadata": {
      "needs_background": "light"
     },
     "output_type": "display_data"
    }
   ],
   "source": [
    "# Check distribution of the age column with a histogram\n",
    "df.age.plot.hist();"
   ]
  },
  {
   "cell_type": "code",
   "execution_count": 27,
   "metadata": {},
   "outputs": [
    {
     "data": {
      "text/html": [
       "<div>\n",
       "<style scoped>\n",
       "    .dataframe tbody tr th:only-of-type {\n",
       "        vertical-align: middle;\n",
       "    }\n",
       "\n",
       "    .dataframe tbody tr th {\n",
       "        vertical-align: top;\n",
       "    }\n",
       "\n",
       "    .dataframe thead th {\n",
       "        text-align: right;\n",
       "    }\n",
       "</style>\n",
       "<table border=\"1\" class=\"dataframe\">\n",
       "  <thead>\n",
       "    <tr style=\"text-align: right;\">\n",
       "      <th></th>\n",
       "      <th>age</th>\n",
       "      <th>sex</th>\n",
       "      <th>cp</th>\n",
       "      <th>trestbps</th>\n",
       "      <th>chol</th>\n",
       "      <th>fbs</th>\n",
       "      <th>restecg</th>\n",
       "      <th>thalach</th>\n",
       "      <th>exang</th>\n",
       "      <th>oldpeak</th>\n",
       "      <th>slope</th>\n",
       "      <th>ca</th>\n",
       "      <th>thal</th>\n",
       "      <th>target</th>\n",
       "    </tr>\n",
       "  </thead>\n",
       "  <tbody>\n",
       "    <tr>\n",
       "      <th>age</th>\n",
       "      <td>1.000000</td>\n",
       "      <td>-0.098447</td>\n",
       "      <td>-0.068653</td>\n",
       "      <td>0.279351</td>\n",
       "      <td>0.213678</td>\n",
       "      <td>0.121308</td>\n",
       "      <td>-0.116211</td>\n",
       "      <td>-0.398522</td>\n",
       "      <td>0.096801</td>\n",
       "      <td>0.210013</td>\n",
       "      <td>-0.168814</td>\n",
       "      <td>0.276326</td>\n",
       "      <td>0.068001</td>\n",
       "      <td>-0.225439</td>\n",
       "    </tr>\n",
       "    <tr>\n",
       "      <th>sex</th>\n",
       "      <td>-0.098447</td>\n",
       "      <td>1.000000</td>\n",
       "      <td>-0.049353</td>\n",
       "      <td>-0.056769</td>\n",
       "      <td>-0.197912</td>\n",
       "      <td>0.045032</td>\n",
       "      <td>-0.058196</td>\n",
       "      <td>-0.044020</td>\n",
       "      <td>0.141664</td>\n",
       "      <td>0.096093</td>\n",
       "      <td>-0.030711</td>\n",
       "      <td>0.118261</td>\n",
       "      <td>0.210041</td>\n",
       "      <td>-0.280937</td>\n",
       "    </tr>\n",
       "    <tr>\n",
       "      <th>cp</th>\n",
       "      <td>-0.068653</td>\n",
       "      <td>-0.049353</td>\n",
       "      <td>1.000000</td>\n",
       "      <td>0.047608</td>\n",
       "      <td>-0.076904</td>\n",
       "      <td>0.094444</td>\n",
       "      <td>0.044421</td>\n",
       "      <td>0.295762</td>\n",
       "      <td>-0.394280</td>\n",
       "      <td>-0.149230</td>\n",
       "      <td>0.119717</td>\n",
       "      <td>-0.181053</td>\n",
       "      <td>-0.161736</td>\n",
       "      <td>0.433798</td>\n",
       "    </tr>\n",
       "    <tr>\n",
       "      <th>trestbps</th>\n",
       "      <td>0.279351</td>\n",
       "      <td>-0.056769</td>\n",
       "      <td>0.047608</td>\n",
       "      <td>1.000000</td>\n",
       "      <td>0.123174</td>\n",
       "      <td>0.177531</td>\n",
       "      <td>-0.114103</td>\n",
       "      <td>-0.046698</td>\n",
       "      <td>0.067616</td>\n",
       "      <td>0.193216</td>\n",
       "      <td>-0.121475</td>\n",
       "      <td>0.101389</td>\n",
       "      <td>0.062210</td>\n",
       "      <td>-0.144931</td>\n",
       "    </tr>\n",
       "    <tr>\n",
       "      <th>chol</th>\n",
       "      <td>0.213678</td>\n",
       "      <td>-0.197912</td>\n",
       "      <td>-0.076904</td>\n",
       "      <td>0.123174</td>\n",
       "      <td>1.000000</td>\n",
       "      <td>0.013294</td>\n",
       "      <td>-0.151040</td>\n",
       "      <td>-0.009940</td>\n",
       "      <td>0.067023</td>\n",
       "      <td>0.053952</td>\n",
       "      <td>-0.004038</td>\n",
       "      <td>0.070511</td>\n",
       "      <td>0.098803</td>\n",
       "      <td>-0.085239</td>\n",
       "    </tr>\n",
       "    <tr>\n",
       "      <th>fbs</th>\n",
       "      <td>0.121308</td>\n",
       "      <td>0.045032</td>\n",
       "      <td>0.094444</td>\n",
       "      <td>0.177531</td>\n",
       "      <td>0.013294</td>\n",
       "      <td>1.000000</td>\n",
       "      <td>-0.084189</td>\n",
       "      <td>-0.008567</td>\n",
       "      <td>0.025665</td>\n",
       "      <td>0.005747</td>\n",
       "      <td>-0.059894</td>\n",
       "      <td>0.137979</td>\n",
       "      <td>-0.032019</td>\n",
       "      <td>-0.028046</td>\n",
       "    </tr>\n",
       "    <tr>\n",
       "      <th>restecg</th>\n",
       "      <td>-0.116211</td>\n",
       "      <td>-0.058196</td>\n",
       "      <td>0.044421</td>\n",
       "      <td>-0.114103</td>\n",
       "      <td>-0.151040</td>\n",
       "      <td>-0.084189</td>\n",
       "      <td>1.000000</td>\n",
       "      <td>0.044123</td>\n",
       "      <td>-0.070733</td>\n",
       "      <td>-0.058770</td>\n",
       "      <td>0.093045</td>\n",
       "      <td>-0.072042</td>\n",
       "      <td>-0.011981</td>\n",
       "      <td>0.137230</td>\n",
       "    </tr>\n",
       "    <tr>\n",
       "      <th>thalach</th>\n",
       "      <td>-0.398522</td>\n",
       "      <td>-0.044020</td>\n",
       "      <td>0.295762</td>\n",
       "      <td>-0.046698</td>\n",
       "      <td>-0.009940</td>\n",
       "      <td>-0.008567</td>\n",
       "      <td>0.044123</td>\n",
       "      <td>1.000000</td>\n",
       "      <td>-0.378812</td>\n",
       "      <td>-0.344187</td>\n",
       "      <td>0.386784</td>\n",
       "      <td>-0.213177</td>\n",
       "      <td>-0.096439</td>\n",
       "      <td>0.421741</td>\n",
       "    </tr>\n",
       "    <tr>\n",
       "      <th>exang</th>\n",
       "      <td>0.096801</td>\n",
       "      <td>0.141664</td>\n",
       "      <td>-0.394280</td>\n",
       "      <td>0.067616</td>\n",
       "      <td>0.067023</td>\n",
       "      <td>0.025665</td>\n",
       "      <td>-0.070733</td>\n",
       "      <td>-0.378812</td>\n",
       "      <td>1.000000</td>\n",
       "      <td>0.288223</td>\n",
       "      <td>-0.257748</td>\n",
       "      <td>0.115739</td>\n",
       "      <td>0.206754</td>\n",
       "      <td>-0.436757</td>\n",
       "    </tr>\n",
       "    <tr>\n",
       "      <th>oldpeak</th>\n",
       "      <td>0.210013</td>\n",
       "      <td>0.096093</td>\n",
       "      <td>-0.149230</td>\n",
       "      <td>0.193216</td>\n",
       "      <td>0.053952</td>\n",
       "      <td>0.005747</td>\n",
       "      <td>-0.058770</td>\n",
       "      <td>-0.344187</td>\n",
       "      <td>0.288223</td>\n",
       "      <td>1.000000</td>\n",
       "      <td>-0.577537</td>\n",
       "      <td>0.222682</td>\n",
       "      <td>0.210244</td>\n",
       "      <td>-0.430696</td>\n",
       "    </tr>\n",
       "    <tr>\n",
       "      <th>slope</th>\n",
       "      <td>-0.168814</td>\n",
       "      <td>-0.030711</td>\n",
       "      <td>0.119717</td>\n",
       "      <td>-0.121475</td>\n",
       "      <td>-0.004038</td>\n",
       "      <td>-0.059894</td>\n",
       "      <td>0.093045</td>\n",
       "      <td>0.386784</td>\n",
       "      <td>-0.257748</td>\n",
       "      <td>-0.577537</td>\n",
       "      <td>1.000000</td>\n",
       "      <td>-0.080155</td>\n",
       "      <td>-0.104764</td>\n",
       "      <td>0.345877</td>\n",
       "    </tr>\n",
       "    <tr>\n",
       "      <th>ca</th>\n",
       "      <td>0.276326</td>\n",
       "      <td>0.118261</td>\n",
       "      <td>-0.181053</td>\n",
       "      <td>0.101389</td>\n",
       "      <td>0.070511</td>\n",
       "      <td>0.137979</td>\n",
       "      <td>-0.072042</td>\n",
       "      <td>-0.213177</td>\n",
       "      <td>0.115739</td>\n",
       "      <td>0.222682</td>\n",
       "      <td>-0.080155</td>\n",
       "      <td>1.000000</td>\n",
       "      <td>0.151832</td>\n",
       "      <td>-0.391724</td>\n",
       "    </tr>\n",
       "    <tr>\n",
       "      <th>thal</th>\n",
       "      <td>0.068001</td>\n",
       "      <td>0.210041</td>\n",
       "      <td>-0.161736</td>\n",
       "      <td>0.062210</td>\n",
       "      <td>0.098803</td>\n",
       "      <td>-0.032019</td>\n",
       "      <td>-0.011981</td>\n",
       "      <td>-0.096439</td>\n",
       "      <td>0.206754</td>\n",
       "      <td>0.210244</td>\n",
       "      <td>-0.104764</td>\n",
       "      <td>0.151832</td>\n",
       "      <td>1.000000</td>\n",
       "      <td>-0.344029</td>\n",
       "    </tr>\n",
       "    <tr>\n",
       "      <th>target</th>\n",
       "      <td>-0.225439</td>\n",
       "      <td>-0.280937</td>\n",
       "      <td>0.433798</td>\n",
       "      <td>-0.144931</td>\n",
       "      <td>-0.085239</td>\n",
       "      <td>-0.028046</td>\n",
       "      <td>0.137230</td>\n",
       "      <td>0.421741</td>\n",
       "      <td>-0.436757</td>\n",
       "      <td>-0.430696</td>\n",
       "      <td>0.345877</td>\n",
       "      <td>-0.391724</td>\n",
       "      <td>-0.344029</td>\n",
       "      <td>1.000000</td>\n",
       "    </tr>\n",
       "  </tbody>\n",
       "</table>\n",
       "</div>"
      ],
      "text/plain": [
       "               age       sex        cp  trestbps      chol       fbs  \\\n",
       "age       1.000000 -0.098447 -0.068653  0.279351  0.213678  0.121308   \n",
       "sex      -0.098447  1.000000 -0.049353 -0.056769 -0.197912  0.045032   \n",
       "cp       -0.068653 -0.049353  1.000000  0.047608 -0.076904  0.094444   \n",
       "trestbps  0.279351 -0.056769  0.047608  1.000000  0.123174  0.177531   \n",
       "chol      0.213678 -0.197912 -0.076904  0.123174  1.000000  0.013294   \n",
       "fbs       0.121308  0.045032  0.094444  0.177531  0.013294  1.000000   \n",
       "restecg  -0.116211 -0.058196  0.044421 -0.114103 -0.151040 -0.084189   \n",
       "thalach  -0.398522 -0.044020  0.295762 -0.046698 -0.009940 -0.008567   \n",
       "exang     0.096801  0.141664 -0.394280  0.067616  0.067023  0.025665   \n",
       "oldpeak   0.210013  0.096093 -0.149230  0.193216  0.053952  0.005747   \n",
       "slope    -0.168814 -0.030711  0.119717 -0.121475 -0.004038 -0.059894   \n",
       "ca        0.276326  0.118261 -0.181053  0.101389  0.070511  0.137979   \n",
       "thal      0.068001  0.210041 -0.161736  0.062210  0.098803 -0.032019   \n",
       "target   -0.225439 -0.280937  0.433798 -0.144931 -0.085239 -0.028046   \n",
       "\n",
       "           restecg   thalach     exang   oldpeak     slope        ca  \\\n",
       "age      -0.116211 -0.398522  0.096801  0.210013 -0.168814  0.276326   \n",
       "sex      -0.058196 -0.044020  0.141664  0.096093 -0.030711  0.118261   \n",
       "cp        0.044421  0.295762 -0.394280 -0.149230  0.119717 -0.181053   \n",
       "trestbps -0.114103 -0.046698  0.067616  0.193216 -0.121475  0.101389   \n",
       "chol     -0.151040 -0.009940  0.067023  0.053952 -0.004038  0.070511   \n",
       "fbs      -0.084189 -0.008567  0.025665  0.005747 -0.059894  0.137979   \n",
       "restecg   1.000000  0.044123 -0.070733 -0.058770  0.093045 -0.072042   \n",
       "thalach   0.044123  1.000000 -0.378812 -0.344187  0.386784 -0.213177   \n",
       "exang    -0.070733 -0.378812  1.000000  0.288223 -0.257748  0.115739   \n",
       "oldpeak  -0.058770 -0.344187  0.288223  1.000000 -0.577537  0.222682   \n",
       "slope     0.093045  0.386784 -0.257748 -0.577537  1.000000 -0.080155   \n",
       "ca       -0.072042 -0.213177  0.115739  0.222682 -0.080155  1.000000   \n",
       "thal     -0.011981 -0.096439  0.206754  0.210244 -0.104764  0.151832   \n",
       "target    0.137230  0.421741 -0.436757 -0.430696  0.345877 -0.391724   \n",
       "\n",
       "              thal    target  \n",
       "age       0.068001 -0.225439  \n",
       "sex       0.210041 -0.280937  \n",
       "cp       -0.161736  0.433798  \n",
       "trestbps  0.062210 -0.144931  \n",
       "chol      0.098803 -0.085239  \n",
       "fbs      -0.032019 -0.028046  \n",
       "restecg  -0.011981  0.137230  \n",
       "thalach  -0.096439  0.421741  \n",
       "exang     0.206754 -0.436757  \n",
       "oldpeak   0.210244 -0.430696  \n",
       "slope    -0.104764  0.345877  \n",
       "ca        0.151832 -0.391724  \n",
       "thal      1.000000 -0.344029  \n",
       "target   -0.344029  1.000000  "
      ]
     },
     "execution_count": 27,
     "metadata": {},
     "output_type": "execute_result"
    }
   ],
   "source": [
    "# Make a correlation matrix\n",
    "df.corr()"
   ]
  },
  {
   "cell_type": "code",
   "execution_count": 131,
   "metadata": {},
   "outputs": [
    {
     "data": {
      "image/png": "[encoded data removed]",
      "text/plain": [
       "<Figure size 1080x720 with 2 Axes>"
      ]
     },
     "metadata": {
      "needs_background": "light"
     },
     "output_type": "display_data"
    }
   ],
   "source": [
    "# Let's make our correlation matrix a little prettier\n",
    "corr_matrix = df.corr()\n",
    "fig, ax = plt.subplots(figsize=(15, 10))\n",
    "ax = sns.heatmap(corr_matrix,\n",
    "                annot=True,\n",
    "                linewidths=0.5,\n",
    "                fmt=\".2f\",\n",
    "                cmap=\"icefire_r\");"
   ]
  },
  {
   "cell_type": "markdown",
   "metadata": {},
   "source": [
    "# 5. Modelling"
   ]
  },
  {
   "cell_type": "code",
   "execution_count": 41,
   "metadata": {},
   "outputs": [
    {
     "data": {
      "text/html": [
       "<div>\n",
       "<style scoped>\n",
       "    .dataframe tbody tr th:only-of-type {\n",
       "        vertical-align: middle;\n",
       "    }\n",
       "\n",
       "    .dataframe tbody tr th {\n",
       "        vertical-align: top;\n",
       "    }\n",
       "\n",
       "    .dataframe thead th {\n",
       "        text-align: right;\n",
       "    }\n",
       "</style>\n",
       "<table border=\"1\" class=\"dataframe\">\n",
       "  <thead>\n",
       "    <tr style=\"text-align: right;\">\n",
       "      <th></th>\n",
       "      <th>age</th>\n",
       "      <th>sex</th>\n",
       "      <th>cp</th>\n",
       "      <th>trestbps</th>\n",
       "      <th>chol</th>\n",
       "      <th>fbs</th>\n",
       "      <th>restecg</th>\n",
       "      <th>thalach</th>\n",
       "      <th>exang</th>\n",
       "      <th>oldpeak</th>\n",
       "      <th>slope</th>\n",
       "      <th>ca</th>\n",
       "      <th>thal</th>\n",
       "      <th>target</th>\n",
       "    </tr>\n",
       "  </thead>\n",
       "  <tbody>\n",
       "    <tr>\n",
       "      <th>0</th>\n",
       "      <td>63</td>\n",
       "      <td>1</td>\n",
       "      <td>3</td>\n",
       "      <td>145</td>\n",
       "      <td>233</td>\n",
       "      <td>1</td>\n",
       "      <td>0</td>\n",
       "      <td>150</td>\n",
       "      <td>0</td>\n",
       "      <td>2.3</td>\n",
       "      <td>0</td>\n",
       "      <td>0</td>\n",
       "      <td>1</td>\n",
       "      <td>1</td>\n",
       "    </tr>\n",
       "    <tr>\n",
       "      <th>1</th>\n",
       "      <td>37</td>\n",
       "      <td>1</td>\n",
       "      <td>2</td>\n",
       "      <td>130</td>\n",
       "      <td>250</td>\n",
       "      <td>0</td>\n",
       "      <td>1</td>\n",
       "      <td>187</td>\n",
       "      <td>0</td>\n",
       "      <td>3.5</td>\n",
       "      <td>0</td>\n",
       "      <td>0</td>\n",
       "      <td>2</td>\n",
       "      <td>1</td>\n",
       "    </tr>\n",
       "    <tr>\n",
       "      <th>2</th>\n",
       "      <td>41</td>\n",
       "      <td>0</td>\n",
       "      <td>1</td>\n",
       "      <td>130</td>\n",
       "      <td>204</td>\n",
       "      <td>0</td>\n",
       "      <td>0</td>\n",
       "      <td>172</td>\n",
       "      <td>0</td>\n",
       "      <td>1.4</td>\n",
       "      <td>2</td>\n",
       "      <td>0</td>\n",
       "      <td>2</td>\n",
       "      <td>1</td>\n",
       "    </tr>\n",
       "    <tr>\n",
       "      <th>3</th>\n",
       "      <td>56</td>\n",
       "      <td>1</td>\n",
       "      <td>1</td>\n",
       "      <td>120</td>\n",
       "      <td>236</td>\n",
       "      <td>0</td>\n",
       "      <td>1</td>\n",
       "      <td>178</td>\n",
       "      <td>0</td>\n",
       "      <td>0.8</td>\n",
       "      <td>2</td>\n",
       "      <td>0</td>\n",
       "      <td>2</td>\n",
       "      <td>1</td>\n",
       "    </tr>\n",
       "    <tr>\n",
       "      <th>4</th>\n",
       "      <td>57</td>\n",
       "      <td>0</td>\n",
       "      <td>0</td>\n",
       "      <td>120</td>\n",
       "      <td>354</td>\n",
       "      <td>0</td>\n",
       "      <td>1</td>\n",
       "      <td>163</td>\n",
       "      <td>1</td>\n",
       "      <td>0.6</td>\n",
       "      <td>2</td>\n",
       "      <td>0</td>\n",
       "      <td>2</td>\n",
       "      <td>1</td>\n",
       "    </tr>\n",
       "  </tbody>\n",
       "</table>\n",
       "</div>"
      ],
      "text/plain": [
       "   age  sex  cp  trestbps  chol  fbs  restecg  thalach  exang  oldpeak  slope  \\\n",
       "0   63    1   3       145   233    1        0      150      0      2.3      0   \n",
       "1   37    1   2       130   250    0        1      187      0      3.5      0   \n",
       "2   41    0   1       130   204    0        0      172      0      1.4      2   \n",
       "3   56    1   1       120   236    0        1      178      0      0.8      2   \n",
       "4   57    0   0       120   354    0        1      163      1      0.6      2   \n",
       "\n",
       "   ca  thal  target  \n",
       "0   0     1       1  \n",
       "1   0     2       1  \n",
       "2   0     2       1  \n",
       "3   0     2       1  \n",
       "4   0     2       1  "
      ]
     },
     "execution_count": 41,
     "metadata": {},
     "output_type": "execute_result"
    }
   ],
   "source": [
    "df.head()"
   ]
  },
  {
   "cell_type": "code",
   "execution_count": 158,
   "metadata": {},
   "outputs": [],
   "source": [
    "# Split data into X and y\n",
    "X = df.drop(['target'], axis = 1)\n",
    "y = df['target']"
   ]
  },
  {
   "cell_type": "code",
   "execution_count": 159,
   "metadata": {},
   "outputs": [],
   "source": [
    "# Set random seed\n",
    "np.random.seed(42)\n",
    "\n",
    "#Split into train and test set\n",
    "X_train, X_test, y_train, y_test = train_test_split(X, y, test_size=0.2)"
   ]
  },
  {
   "cell_type": "markdown",
   "metadata": {},
   "source": [
    "#### We are going to try 3 different machine learning models:\n",
    "    \n",
    "1. Logistic Regression\n",
    "2. K-Nearest Neighbors\n",
    "3. Random Forest Classifiers"
   ]
  },
  {
   "cell_type": "code",
   "execution_count": 58,
   "metadata": {},
   "outputs": [],
   "source": [
    "# Put models in a dictionary\n",
    "models = {\"Logistic Regression\": LogisticRegression(),\n",
    "         \"KNN\": KNeighborsClassifier(),\n",
    "         \"Random Forest\": RandomForestClassifier()}\n",
    "\n",
    "#Create a function to fit and score models\n",
    "def fit_and_score(models, X_train, X_test, y_train, y_test):\n",
    "    \"\"\"\n",
    "    Fits and evaluate given machine learning models.\n",
    "    models : different Scikit-Learn models\n",
    "    X_train: training data (no labels)\n",
    "    X_test: testing data (no labels)\n",
    "    y_train: training labels\n",
    "    y_test: testing labels\n",
    "    \"\"\"\n",
    "    # Set random seed\n",
    "    np.random.seed(42)\n",
    "    \n",
    "    # Make a dictionary to keep model scores\n",
    "    model_scores = {}\n",
    "    \n",
    "    #Loop through models\n",
    "    for name, model in models.items():\n",
    "        \n",
    "        #Fit the model to the data\n",
    "        model.fit(X_train, y_train)\n",
    "        \n",
    "        #Evaluate the model and append its score\n",
    "        model_scores[name] =  model.score(X_test, y_test)\n",
    "    \n",
    "    return model_scores"
   ]
  },
  {
   "cell_type": "code",
   "execution_count": 59,
   "metadata": {},
   "outputs": [
    {
     "name": "stderr",
     "output_type": "stream",
     "text": [
      "D:\\Tutorial Projects\\ML\\env\\lib\\site-packages\\sklearn\\linear_model\\_logistic.py:938: ConvergenceWarning: lbfgs failed to converge (status=1):\n",
      "STOP: TOTAL NO. of ITERATIONS REACHED LIMIT.\n",
      "\n",
      "Increase the number of iterations (max_iter) or scale the data as shown in:\n",
      "    https://scikit-learn.org/stable/modules/preprocessing.html\n",
      "Please also refer to the documentation for alternative solver options:\n",
      "    https://scikit-learn.org/stable/modules/linear_model.html#logistic-regression\n",
      "  n_iter_i = _check_optimize_result(\n"
     ]
    },
    {
     "data": {
      "text/plain": [
       "{'Logistic Regression': 0.8852459016393442,\n",
       " 'KNN': 0.6885245901639344,\n",
       " 'Random Forest': 0.8360655737704918}"
      ]
     },
     "execution_count": 59,
     "metadata": {},
     "output_type": "execute_result"
    }
   ],
   "source": [
    "model_scores = fit_and_score(models=models, \n",
    "                             X_train=X_train, \n",
    "                             X_test=X_test, \n",
    "                             y_train=y_train, \n",
    "                             y_test=y_test)\n",
    "\n",
    "model_scores"
   ]
  },
  {
   "cell_type": "markdown",
   "metadata": {},
   "source": [
    "### Model comparison"
   ]
  },
  {
   "cell_type": "code",
   "execution_count": 69,
   "metadata": {},
   "outputs": [
    {
     "data": {
      "image/png": "[encoded data removed]",
      "text/plain": [
       "<Figure size 432x288 with 1 Axes>"
      ]
     },
     "metadata": {
      "needs_background": "light"
     },
     "output_type": "display_data"
    }
   ],
   "source": [
    "model_compare = pd.DataFrame(model_scores, index=[\"Accuracy\"])\n",
    "model_compare.T.plot.bar();"
   ]
  },
  {
   "cell_type": "markdown",
   "metadata": {},
   "source": [
    "### Now we've got a baseline model. The next step is looking at tuning!\n",
    "\n",
    "General ML Models\n",
    "1. Hyperparameter tuning\n",
    "2. Feature Importance\n",
    "\n",
    "In tuning we focus on these specific to Classification Model\n",
    "* Confusion Matrix\n",
    "* Cross-Validation\n",
    "* Precision\n",
    "* Recall\n",
    "* F1\n",
    "* Classification Report\n",
    "* ROC Curve\n",
    "* AUC"
   ]
  },
  {
   "cell_type": "code",
   "execution_count": 70,
   "metadata": {},
   "outputs": [],
   "source": [
    "# Let's Tune KNN\n",
    "train_scores = []\n",
    "test_scores = []\n",
    "\n",
    "# Create list of different values for n_neighbors\n",
    "neighbors = range(1,21)\n",
    "\n",
    "# Setup KNN instance\n",
    "knn = KNeighborsClassifier()\n",
    "\n",
    "# Loop through different n_neighbors\n",
    "for i in neighbors:\n",
    "    knn.set_params(n_neighbors=i)\n",
    "    \n",
    "    #Fit the algorithm\n",
    "    knn.fit(X_train, y_train)\n",
    "    \n",
    "    #Update training scores list\n",
    "    train_scores.append(knn.score(X_train, y_train))\n",
    "    \n",
    "    #Update testing scores list\n",
    "    test_scores.append(knn.score(X_test, y_test))"
   ]
  },
  {
   "cell_type": "code",
   "execution_count": 77,
   "metadata": {},
   "outputs": [
    {
     "data": {
      "image/png": "[encoded data removed]",
      "text/plain": [
       "<Figure size 432x288 with 1 Axes>"
      ]
     },
     "metadata": {
      "needs_background": "light"
     },
     "output_type": "display_data"
    },
    {
     "name": "stdout",
     "output_type": "stream",
     "text": [
      "Maximum KNN score on test data: 75.41%\n"
     ]
    }
   ],
   "source": [
    "plt.plot(neighbors, train_scores, label = \"Train Score\")\n",
    "plt.plot(neighbors, test_scores, label = \"Test Score\")\n",
    "plt.xticks(np.arange(1,21,1))\n",
    "plt.xlabel(\"Number of neighbors\")\n",
    "plt.ylabel(\"Model score\")\n",
    "plt.legend()\n",
    "plt.show()\n",
    "\n",
    "print(f\"Maximum KNN score on test data: {max(test_scores)*100:.2f}%\")"
   ]
  },
  {
   "cell_type": "markdown",
   "metadata": {},
   "source": [
    "### Hyperparameter tuning with RandomizedSearchCV\n",
    "\n",
    "We are going to tune:\n",
    "    * Logistic Regression()\n",
    "    * RandomForestClassifier"
   ]
  },
  {
   "cell_type": "code",
   "execution_count": 89,
   "metadata": {},
   "outputs": [],
   "source": [
    "# Create a hyperparameter grid for LogisticRegression\n",
    "log_reg_grid={\"C\": np.logspace(-4,4,20),\n",
    "             \"solver\": [\"liblinear\"]}\n",
    "\n",
    "# Create a hyperparameter grid for RandomForestClassifier\n",
    "rf_grid ={\"n_estimators\": np.arange(10,10000,50),\n",
    "          \"max_depth\": [None,3,5,10],\n",
    "          \"min_samples_split\": np.arange(2,20,2),\n",
    "          \"min_samples_leaf\": np.arange(1,20,2)}"
   ]
  },
  {
   "cell_type": "code",
   "execution_count": 84,
   "metadata": {
    "scrolled": true
   },
   "outputs": [
    {
     "name": "stdout",
     "output_type": "stream",
     "text": [
      "Fitting 5 folds for each of 20 candidates, totalling 100 fits\n"
     ]
    },
    {
     "name": "stderr",
     "output_type": "stream",
     "text": [
      "[Parallel(n_jobs=1)]: Using backend SequentialBackend with 1 concurrent workers.\n",
      "[Parallel(n_jobs=1)]: Done 100 out of 100 | elapsed:    0.3s finished\n"
     ]
    },
    {
     "data": {
      "text/plain": [
       "RandomizedSearchCV(cv=5, error_score=nan,\n",
       "                   estimator=LogisticRegression(C=1.0, class_weight=None,\n",
       "                                                dual=False, fit_intercept=True,\n",
       "                                                intercept_scaling=1,\n",
       "                                                l1_ratio=None, max_iter=100,\n",
       "                                                multi_class='auto', n_jobs=None,\n",
       "                                                penalty='l2', random_state=None,\n",
       "                                                solver='lbfgs', tol=0.0001,\n",
       "                                                verbose=0, warm_start=False),\n",
       "                   iid='deprecated', n_iter=20, n_jobs=None,\n",
       "                   param_distributions={'C':...\n",
       "       4.83293024e-03, 1.27427499e-02, 3.35981829e-02, 8.85866790e-02,\n",
       "       2.33572147e-01, 6.15848211e-01, 1.62377674e+00, 4.28133240e+00,\n",
       "       1.12883789e+01, 2.97635144e+01, 7.84759970e+01, 2.06913808e+02,\n",
       "       5.45559478e+02, 1.43844989e+03, 3.79269019e+03, 1.00000000e+04]),\n",
       "                                        'solver': ['liblinear']},\n",
       "                   pre_dispatch='2*n_jobs', random_state=None, refit=True,\n",
       "                   return_train_score=False, scoring=None, verbose=True)"
      ]
     },
     "execution_count": 84,
     "metadata": {},
     "output_type": "execute_result"
    }
   ],
   "source": [
    "# Tune LogisticRegression\n",
    "np.random.seed(42)\n",
    "\n",
    "# Setup random hyperparameter search for LogisticRegression\n",
    "rs_log_reg =RandomizedSearchCV(LogisticRegression(),\n",
    "                               param_distributions=log_reg_grid,\n",
    "                               cv=5,\n",
    "                              n_iter=20,\n",
    "                              verbose=True)\n",
    "\n",
    "# Fit random hyperparameter search model for LogisticRegression\n",
    "rs_log_reg.fit(X_train, y_train)"
   ]
  },
  {
   "cell_type": "code",
   "execution_count": 85,
   "metadata": {},
   "outputs": [
    {
     "data": {
      "text/plain": [
       "{'solver': 'liblinear', 'C': 0.23357214690901212}"
      ]
     },
     "execution_count": 85,
     "metadata": {},
     "output_type": "execute_result"
    }
   ],
   "source": [
    "rs_log_reg.best_params_"
   ]
  },
  {
   "cell_type": "code",
   "execution_count": 86,
   "metadata": {},
   "outputs": [
    {
     "data": {
      "text/plain": [
       "0.8852459016393442"
      ]
     },
     "execution_count": 86,
     "metadata": {},
     "output_type": "execute_result"
    }
   ],
   "source": [
    "rs_log_reg.score(X_test, y_test)"
   ]
  },
  {
   "cell_type": "code",
   "execution_count": 92,
   "metadata": {},
   "outputs": [
    {
     "name": "stdout",
     "output_type": "stream",
     "text": [
      "Fitting 5 folds for each of 1 candidates, totalling 5 fits\n",
      "[CV] n_estimators=9760, min_samples_split=14, min_samples_leaf=17, max_depth=None \n"
     ]
    },
    {
     "name": "stderr",
     "output_type": "stream",
     "text": [
      "[Parallel(n_jobs=1)]: Using backend SequentialBackend with 1 concurrent workers.\n"
     ]
    },
    {
     "name": "stdout",
     "output_type": "stream",
     "text": [
      "[CV]  n_estimators=9760, min_samples_split=14, min_samples_leaf=17, max_depth=None, total=  11.8s\n",
      "[CV] n_estimators=9760, min_samples_split=14, min_samples_leaf=17, max_depth=None \n"
     ]
    },
    {
     "name": "stderr",
     "output_type": "stream",
     "text": [
      "[Parallel(n_jobs=1)]: Done   1 out of   1 | elapsed:   11.7s remaining:    0.0s\n"
     ]
    },
    {
     "name": "stdout",
     "output_type": "stream",
     "text": [
      "[CV]  n_estimators=9760, min_samples_split=14, min_samples_leaf=17, max_depth=None, total=  11.5s\n",
      "[CV] n_estimators=9760, min_samples_split=14, min_samples_leaf=17, max_depth=None \n",
      "[CV]  n_estimators=9760, min_samples_split=14, min_samples_leaf=17, max_depth=None, total=  11.7s\n",
      "[CV] n_estimators=9760, min_samples_split=14, min_samples_leaf=17, max_depth=None \n",
      "[CV]  n_estimators=9760, min_samples_split=14, min_samples_leaf=17, max_depth=None, total=  11.7s\n",
      "[CV] n_estimators=9760, min_samples_split=14, min_samples_leaf=17, max_depth=None \n",
      "[CV]  n_estimators=9760, min_samples_split=14, min_samples_leaf=17, max_depth=None, total=  11.8s\n"
     ]
    },
    {
     "name": "stderr",
     "output_type": "stream",
     "text": [
      "[Parallel(n_jobs=1)]: Done   5 out of   5 | elapsed:   58.5s finished\n"
     ]
    },
    {
     "data": {
      "text/plain": [
       "RandomizedSearchCV(cv=5, error_score=nan,\n",
       "                   estimator=RandomForestClassifier(bootstrap=True,\n",
       "                                                    ccp_alpha=0.0,\n",
       "                                                    class_weight=None,\n",
       "                                                    criterion='gini',\n",
       "                                                    max_depth=None,\n",
       "                                                    max_features='auto',\n",
       "                                                    max_leaf_nodes=None,\n",
       "                                                    max_samples=None,\n",
       "                                                    min_impurity_decrease=0.0,\n",
       "                                                    min_impurity_split=None,\n",
       "                                                    min_samples_leaf=1,\n",
       "                                                    min_samples_split=2,\n",
       "                                                    min_weight_fraction_leaf=0.0,\n",
       "                                                    n_estimators=100,\n",
       "                                                    n_jobs...\n",
       "       7160, 7210, 7260, 7310, 7360, 7410, 7460, 7510, 7560, 7610, 7660,\n",
       "       7710, 7760, 7810, 7860, 7910, 7960, 8010, 8060, 8110, 8160, 8210,\n",
       "       8260, 8310, 8360, 8410, 8460, 8510, 8560, 8610, 8660, 8710, 8760,\n",
       "       8810, 8860, 8910, 8960, 9010, 9060, 9110, 9160, 9210, 9260, 9310,\n",
       "       9360, 9410, 9460, 9510, 9560, 9610, 9660, 9710, 9760, 9810, 9860,\n",
       "       9910, 9960])},\n",
       "                   pre_dispatch='2*n_jobs', random_state=None, refit=True,\n",
       "                   return_train_score=False, scoring=None, verbose=2)"
      ]
     },
     "execution_count": 92,
     "metadata": {},
     "output_type": "execute_result"
    }
   ],
   "source": [
    "# Tune LogisticRegression\n",
    "np.random.seed(42)\n",
    "\n",
    "# Setup random hyperparameter search for RandomForestClassifier\n",
    "rs_rf =RandomizedSearchCV(RandomForestClassifier(),\n",
    "                               param_distributions=rf_grid,\n",
    "                               cv=5,\n",
    "                               n_iter=1,\n",
    "                               verbose=2)\n",
    "\n",
    "# Fit random hyperparameter search model for RandomForestClassifier\n",
    "rs_rf.fit(X_train, y_train)"
   ]
  },
  {
   "cell_type": "code",
   "execution_count": 95,
   "metadata": {},
   "outputs": [
    {
     "data": {
      "text/plain": [
       "{'n_estimators': 9760,\n",
       " 'min_samples_split': 14,\n",
       " 'min_samples_leaf': 17,\n",
       " 'max_depth': None}"
      ]
     },
     "execution_count": 95,
     "metadata": {},
     "output_type": "execute_result"
    }
   ],
   "source": [
    "rs_rf.best_params_"
   ]
  },
  {
   "cell_type": "code",
   "execution_count": 96,
   "metadata": {},
   "outputs": [
    {
     "data": {
      "text/plain": [
       "0.8688524590163934"
      ]
     },
     "execution_count": 96,
     "metadata": {},
     "output_type": "execute_result"
    }
   ],
   "source": [
    "rs_rf.score(X_test, y_test)"
   ]
  },
  {
   "cell_type": "markdown",
   "metadata": {},
   "source": [
    "### Hyperparameter tuning with GridsearchCV\n",
    "\n",
    "We are going to tune Logistic Regression because it provides the highest accuracy!\n"
   ]
  },
  {
   "cell_type": "code",
   "execution_count": 118,
   "metadata": {},
   "outputs": [
    {
     "name": "stdout",
     "output_type": "stream",
     "text": [
      "Fitting 5 folds for each of 30 candidates, totalling 150 fits\n",
      "[CV] C=0.0001, solver=liblinear ......................................\n",
      "[CV] ....................... C=0.0001, solver=liblinear, total=   0.0s\n",
      "[CV] C=0.0001, solver=liblinear ......................................\n",
      "[CV] ....................... C=0.0001, solver=liblinear, total=   0.0s\n",
      "[CV] C=0.0001, solver=liblinear ......................................\n",
      "[CV] ....................... C=0.0001, solver=liblinear, total=   0.0s\n",
      "[CV] C=0.0001, solver=liblinear ......................................\n",
      "[CV] ....................... C=0.0001, solver=liblinear, total=   0.0s\n",
      "[CV] C=0.0001, solver=liblinear ......................................\n",
      "[CV] ....................... C=0.0001, solver=liblinear, total=   0.0s\n",
      "[CV] C=0.00018873918221350977, solver=liblinear ......................\n",
      "[CV] ....... C=0.00018873918221350977, solver=liblinear, total=   0.0s\n",
      "[CV] C=0.00018873918221350977, solver=liblinear ......................\n",
      "[CV] ....... C=0.00018873918221350977, solver=liblinear, total=   0.0s\n",
      "[CV] C=0.00018873918221350977, solver=liblinear ......................\n",
      "[CV] ....... C=0.00018873918221350977, solver=liblinear, total=   0.0s\n",
      "[CV] C=0.00018873918221350977, solver=liblinear ......................\n",
      "[CV] ....... C=0.00018873918221350977, solver=liblinear, total=   0.0s\n",
      "[CV] C=0.00018873918221350977, solver=liblinear ......................\n",
      "[CV] ....... C=0.00018873918221350977, solver=liblinear, total=   0.0s\n",
      "[CV] C=0.0003562247890262444, solver=liblinear .......................\n",
      "[CV] ........ C=0.0003562247890262444, solver=liblinear, total=   0.0s\n",
      "[CV] C=0.0003562247890262444, solver=liblinear .......................\n",
      "[CV] ........ C=0.0003562247890262444, solver=liblinear, total=   0.0s\n",
      "[CV] C=0.0003562247890262444, solver=liblinear .......................\n",
      "[CV] ........ C=0.0003562247890262444, solver=liblinear, total=   0.0s\n",
      "[CV] C=0.0003562247890262444, solver=liblinear .......................\n",
      "[CV] ........ C=0.0003562247890262444, solver=liblinear, total=   0.0s\n",
      "[CV] C=0.0003562247890262444, solver=liblinear .......................\n",
      "[CV] ........ C=0.0003562247890262444, solver=liblinear, total=   0.0s\n",
      "[CV] C=0.0006723357536499335, solver=liblinear .......................\n",
      "[CV] ........ C=0.0006723357536499335, solver=liblinear, total=   0.0s\n",
      "[CV] C=0.0006723357536499335, solver=liblinear .......................\n",
      "[CV] ........ C=0.0006723357536499335, solver=liblinear, total=   0.0s\n",
      "[CV] C=0.0006723357536499335, solver=liblinear .......................\n",
      "[CV] ........ C=0.0006723357536499335, solver=liblinear, total=   0.0s\n",
      "[CV] C=0.0006723357536499335, solver=liblinear .......................\n",
      "[CV] ........ C=0.0006723357536499335, solver=liblinear, total=   0.0s\n",
      "[CV] C=0.0006723357536499335, solver=liblinear .......................\n",
      "[CV] ........ C=0.0006723357536499335, solver=liblinear, total=   0.0s\n",
      "[CV] C=0.0012689610031679222, solver=liblinear .......................\n",
      "[CV] ........ C=0.0012689610031679222, solver=liblinear, total=   0.0s\n",
      "[CV] C=0.0012689610031679222, solver=liblinear .......................\n",
      "[CV] ........ C=0.0012689610031679222, solver=liblinear, total=   0.0s\n",
      "[CV] C=0.0012689610031679222, solver=liblinear .......................\n",
      "[CV] ........ C=0.0012689610031679222, solver=liblinear, total=   0.0s\n",
      "[CV] C=0.0012689610031679222, solver=liblinear .......................\n",
      "[CV] ........ C=0.0012689610031679222, solver=liblinear, total=   0.0s\n",
      "[CV] C=0.0012689610031679222, solver=liblinear .......................\n",
      "[CV] ........ C=0.0012689610031679222, solver=liblinear, total=   0.0s\n",
      "[CV] C=0.002395026619987486, solver=liblinear ........................\n",
      "[CV] ......... C=0.002395026619987486, solver=liblinear, total=   0.0s\n",
      "[CV] C=0.002395026619987486, solver=liblinear ........................\n",
      "[CV] ......... C=0.002395026619987486, solver=liblinear, total=   0.0s\n",
      "[CV] C=0.002395026619987486, solver=liblinear ........................\n",
      "[CV] ......... C=0.002395026619987486, solver=liblinear, total=   0.0s\n",
      "[CV] C=0.002395026619987486, solver=liblinear ........................\n",
      "[CV] ......... C=0.002395026619987486, solver=liblinear, total=   0.0s\n",
      "[CV] C=0.002395026619987486, solver=liblinear ........................\n",
      "[CV] ......... C=0.002395026619987486, solver=liblinear, total=   0.0s\n",
      "[CV] C=0.004520353656360241, solver=liblinear ........................\n",
      "[CV] ......... C=0.004520353656360241, solver=liblinear, total=   0.0s\n",
      "[CV] C=0.004520353656360241, solver=liblinear ........................\n",
      "[CV] ......... C=0.004520353656360241, solver=liblinear, total=   0.0s\n",
      "[CV] C=0.004520353656360241, solver=liblinear ........................\n",
      "[CV] ......... C=0.004520353656360241, solver=liblinear, total=   0.0s\n",
      "[CV] C=0.004520353656360241, solver=liblinear ........................\n",
      "[CV] ......... C=0.004520353656360241, solver=liblinear, total=   0.0s\n",
      "[CV] C=0.004520353656360241, solver=liblinear ........................\n",
      "[CV] ......... C=0.004520353656360241, solver=liblinear, total=   0.0s\n",
      "[CV] C=0.008531678524172805, solver=liblinear ........................\n",
      "[CV] ......... C=0.008531678524172805, solver=liblinear, total=   0.0s\n",
      "[CV] C=0.008531678524172805, solver=liblinear ........................\n",
      "[CV] ......... C=0.008531678524172805, solver=liblinear, total=   0.0s\n",
      "[CV] C=0.008531678524172805, solver=liblinear ........................\n",
      "[CV] ......... C=0.008531678524172805, solver=liblinear, total=   0.0s\n",
      "[CV] C=0.008531678524172805, solver=liblinear ........................\n",
      "[CV] ......... C=0.008531678524172805, solver=liblinear, total=   0.0s\n",
      "[CV] C=0.008531678524172805, solver=liblinear ........................\n",
      "[CV] ......... C=0.008531678524172805, solver=liblinear, total=   0.0s\n",
      "[CV] C=0.01610262027560939, solver=liblinear .........................\n",
      "[CV] .......... C=0.01610262027560939, solver=liblinear, total=   0.0s\n",
      "[CV] C=0.01610262027560939, solver=liblinear .........................\n",
      "[CV] .......... C=0.01610262027560939, solver=liblinear, total=   0.0s\n",
      "[CV] C=0.01610262027560939, solver=liblinear ........................."
     ]
    },
    {
     "name": "stderr",
     "output_type": "stream",
     "text": [
      "[Parallel(n_jobs=1)]: Using backend SequentialBackend with 1 concurrent workers.\n",
      "[Parallel(n_jobs=1)]: Done   1 out of   1 | elapsed:    0.0s remaining:    0.0s\n"
     ]
    },
    {
     "name": "stdout",
     "output_type": "stream",
     "text": [
      "\n",
      "[CV] .......... C=0.01610262027560939, solver=liblinear, total=   0.0s\n",
      "[CV] C=0.01610262027560939, solver=liblinear .........................\n",
      "[CV] .......... C=0.01610262027560939, solver=liblinear, total=   0.0s\n",
      "[CV] C=0.01610262027560939, solver=liblinear .........................\n",
      "[CV] .......... C=0.01610262027560939, solver=liblinear, total=   0.0s\n",
      "[CV] C=0.03039195382313198, solver=liblinear .........................\n",
      "[CV] .......... C=0.03039195382313198, solver=liblinear, total=   0.0s\n",
      "[CV] C=0.03039195382313198, solver=liblinear .........................\n",
      "[CV] .......... C=0.03039195382313198, solver=liblinear, total=   0.0s\n",
      "[CV] C=0.03039195382313198, solver=liblinear .........................\n",
      "[CV] .......... C=0.03039195382313198, solver=liblinear, total=   0.0s\n",
      "[CV] C=0.03039195382313198, solver=liblinear .........................\n",
      "[CV] .......... C=0.03039195382313198, solver=liblinear, total=   0.0s\n",
      "[CV] C=0.03039195382313198, solver=liblinear .........................\n",
      "[CV] .......... C=0.03039195382313198, solver=liblinear, total=   0.0s\n",
      "[CV] C=0.05736152510448681, solver=liblinear .........................\n",
      "[CV] .......... C=0.05736152510448681, solver=liblinear, total=   0.0s\n",
      "[CV] C=0.05736152510448681, solver=liblinear .........................\n",
      "[CV] .......... C=0.05736152510448681, solver=liblinear, total=   0.0s\n",
      "[CV] C=0.05736152510448681, solver=liblinear .........................\n",
      "[CV] .......... C=0.05736152510448681, solver=liblinear, total=   0.0s\n",
      "[CV] C=0.05736152510448681, solver=liblinear .........................\n",
      "[CV] .......... C=0.05736152510448681, solver=liblinear, total=   0.0s\n",
      "[CV] C=0.05736152510448681, solver=liblinear .........................\n",
      "[CV] .......... C=0.05736152510448681, solver=liblinear, total=   0.0s\n",
      "[CV] C=0.1082636733874054, solver=liblinear ..........................\n",
      "[CV] ........... C=0.1082636733874054, solver=liblinear, total=   0.0s\n",
      "[CV] C=0.1082636733874054, solver=liblinear ..........................\n",
      "[CV] ........... C=0.1082636733874054, solver=liblinear, total=   0.0s\n",
      "[CV] C=0.1082636733874054, solver=liblinear ..........................\n",
      "[CV] ........... C=0.1082636733874054, solver=liblinear, total=   0.0s\n",
      "[CV] C=0.1082636733874054, solver=liblinear ..........................\n",
      "[CV] ........... C=0.1082636733874054, solver=liblinear, total=   0.0s\n",
      "[CV] C=0.1082636733874054, solver=liblinear ..........................\n",
      "[CV] ........... C=0.1082636733874054, solver=liblinear, total=   0.0s\n",
      "[CV] C=0.20433597178569418, solver=liblinear .........................\n",
      "[CV] .......... C=0.20433597178569418, solver=liblinear, total=   0.0s\n",
      "[CV] C=0.20433597178569418, solver=liblinear .........................\n",
      "[CV] .......... C=0.20433597178569418, solver=liblinear, total=   0.0s\n",
      "[CV] C=0.20433597178569418, solver=liblinear .........................\n",
      "[CV] .......... C=0.20433597178569418, solver=liblinear, total=   0.0s\n",
      "[CV] C=0.20433597178569418, solver=liblinear .........................\n",
      "[CV] .......... C=0.20433597178569418, solver=liblinear, total=   0.0s\n",
      "[CV] C=0.20433597178569418, solver=liblinear .........................\n",
      "[CV] .......... C=0.20433597178569418, solver=liblinear, total=   0.0s\n",
      "[CV] C=0.38566204211634725, solver=liblinear .........................\n",
      "[CV] .......... C=0.38566204211634725, solver=liblinear, total=   0.0s\n",
      "[CV] C=0.38566204211634725, solver=liblinear .........................\n",
      "[CV] .......... C=0.38566204211634725, solver=liblinear, total=   0.0s\n",
      "[CV] C=0.38566204211634725, solver=liblinear .........................\n",
      "[CV] .......... C=0.38566204211634725, solver=liblinear, total=   0.0s\n",
      "[CV] C=0.38566204211634725, solver=liblinear .........................\n",
      "[CV] .......... C=0.38566204211634725, solver=liblinear, total=   0.0s\n",
      "[CV] C=0.38566204211634725, solver=liblinear .........................\n",
      "[CV] .......... C=0.38566204211634725, solver=liblinear, total=   0.0s\n",
      "[CV] C=0.7278953843983146, solver=liblinear ..........................\n",
      "[CV] ........... C=0.7278953843983146, solver=liblinear, total=   0.0s\n",
      "[CV] C=0.7278953843983146, solver=liblinear ..........................\n",
      "[CV] ........... C=0.7278953843983146, solver=liblinear, total=   0.0s\n",
      "[CV] C=0.7278953843983146, solver=liblinear ..........................\n",
      "[CV] ........... C=0.7278953843983146, solver=liblinear, total=   0.0s\n",
      "[CV] C=0.7278953843983146, solver=liblinear ..........................\n",
      "[CV] ........... C=0.7278953843983146, solver=liblinear, total=   0.0s\n",
      "[CV] C=0.7278953843983146, solver=liblinear ..........................\n",
      "[CV] ........... C=0.7278953843983146, solver=liblinear, total=   0.0s\n",
      "[CV] C=1.3738237958832638, solver=liblinear ..........................\n",
      "[CV] ........... C=1.3738237958832638, solver=liblinear, total=   0.0s\n",
      "[CV] C=1.3738237958832638, solver=liblinear ..........................\n",
      "[CV] ........... C=1.3738237958832638, solver=liblinear, total=   0.0s\n",
      "[CV] C=1.3738237958832638, solver=liblinear ..........................\n",
      "[CV] ........... C=1.3738237958832638, solver=liblinear, total=   0.0s\n",
      "[CV] C=1.3738237958832638, solver=liblinear ..........................\n",
      "[CV] ........... C=1.3738237958832638, solver=liblinear, total=   0.0s\n",
      "[CV] C=1.3738237958832638, solver=liblinear ..........................\n",
      "[CV] ........... C=1.3738237958832638, solver=liblinear, total=   0.0s\n",
      "[CV] C=2.592943797404667, solver=liblinear ...........................\n",
      "[CV] ............ C=2.592943797404667, solver=liblinear, total=   0.0s\n",
      "[CV] C=2.592943797404667, solver=liblinear ...........................\n",
      "[CV] ............ C=2.592943797404667, solver=liblinear, total=   0.0s\n",
      "[CV] C=2.592943797404667, solver=liblinear ...........................\n",
      "[CV] ............ C=2.592943797404667, solver=liblinear, total=   0.0s\n",
      "[CV] C=2.592943797404667, solver=liblinear ...........................\n",
      "[CV] ............ C=2.592943797404667, solver=liblinear, total=   0.0s\n",
      "[CV] C=2.592943797404667, solver=liblinear ...........................\n",
      "[CV] ............ C=2.592943797404667, solver=liblinear, total=   0.0s\n",
      "[CV] C=4.893900918477489, solver=liblinear ...........................\n",
      "[CV] ............ C=4.893900918477489, solver=liblinear, total=   0.0s\n",
      "[CV] C=4.893900918477489, solver=liblinear ...........................\n",
      "[CV] ............ C=4.893900918477489, solver=liblinear, total=   0.0s\n",
      "[CV] C=4.893900918477489, solver=liblinear ...........................\n",
      "[CV] ............ C=4.893900918477489, solver=liblinear, total=   0.0s\n",
      "[CV] C=4.893900918477489, solver=liblinear ...........................\n",
      "[CV] ............ C=4.893900918477489, solver=liblinear, total=   0.0s\n",
      "[CV] C=4.893900918477489, solver=liblinear ...........................\n",
      "[CV] ............ C=4.893900918477489, solver=liblinear, total=   0.0s\n",
      "[CV] C=9.236708571873866, solver=liblinear ...........................\n",
      "[CV] ............ C=9.236708571873866, solver=liblinear, total=   0.0s\n",
      "[CV] C=9.236708571873866, solver=liblinear ...........................\n",
      "[CV] ............ C=9.236708571873866, solver=liblinear, total=   0.0s\n",
      "[CV] C=9.236708571873866, solver=liblinear ...........................\n",
      "[CV] ............ C=9.236708571873866, solver=liblinear, total=   0.0s\n",
      "[CV] C=9.236708571873866, solver=liblinear ...........................\n",
      "[CV] ............ C=9.236708571873866, solver=liblinear, total=   0.0s\n",
      "[CV] C=9.236708571873866, solver=liblinear ...........................\n",
      "[CV] ............ C=9.236708571873866, solver=liblinear, total=   0.0s\n",
      "[CV] C=17.433288221999874, solver=liblinear ..........................\n",
      "[CV] ........... C=17.433288221999874, solver=liblinear, total=   0.0s\n",
      "[CV] C=17.433288221999874, solver=liblinear ..........................\n",
      "[CV] ........... C=17.433288221999874, solver=liblinear, total=   0.0s\n",
      "[CV] C=17.433288221999874, solver=liblinear ..........................\n",
      "[CV] ........... C=17.433288221999874, solver=liblinear, total=   0.0s\n",
      "[CV] C=17.433288221999874, solver=liblinear ..........................\n",
      "[CV] ........... C=17.433288221999874, solver=liblinear, total=   0.0s\n",
      "[CV] C=17.433288221999874, solver=liblinear ..........................\n",
      "[CV] ........... C=17.433288221999874, solver=liblinear, total=   0.0s\n",
      "[CV] C=32.90344562312671, solver=liblinear ...........................\n",
      "[CV] ............ C=32.90344562312671, solver=liblinear, total=   0.0s\n",
      "[CV] C=32.90344562312671, solver=liblinear ...........................\n",
      "[CV] ............ C=32.90344562312671, solver=liblinear, total=   0.0s\n",
      "[CV] C=32.90344562312671, solver=liblinear ...........................\n",
      "[CV] ............ C=32.90344562312671, solver=liblinear, total=   0.0s\n",
      "[CV] C=32.90344562312671, solver=liblinear ...........................\n",
      "[CV] ............ C=32.90344562312671, solver=liblinear, total=   0.0s\n",
      "[CV] C=32.90344562312671, solver=liblinear ...........................\n",
      "[CV] ............ C=32.90344562312671, solver=liblinear, total=   0.0s\n",
      "[CV] C=62.10169418915616, solver=liblinear ...........................\n",
      "[CV] ............ C=62.10169418915616, solver=liblinear, total=   0.0s\n",
      "[CV] C=62.10169418915616, solver=liblinear ...........................\n",
      "[CV] ............ C=62.10169418915616, solver=liblinear, total=   0.0s\n",
      "[CV] C=62.10169418915616, solver=liblinear ...........................\n",
      "[CV] ............ C=62.10169418915616, solver=liblinear, total=   0.0s\n",
      "[CV] C=62.10169418915616, solver=liblinear ...........................\n",
      "[CV] ............ C=62.10169418915616, solver=liblinear, total=   0.0s\n",
      "[CV] C=62.10169418915616, solver=liblinear ...........................\n",
      "[CV] ............ C=62.10169418915616, solver=liblinear, total=   0.0s\n",
      "[CV] C=117.21022975334793, solver=liblinear ..........................\n",
      "[CV] ........... C=117.21022975334793, solver=liblinear, total=   0.0s\n",
      "[CV] C=117.21022975334793, solver=liblinear ..........................\n",
      "[CV] ........... C=117.21022975334793, solver=liblinear, total=   0.0s\n",
      "[CV] C=117.21022975334793, solver=liblinear ..........................\n",
      "[CV] ........... C=117.21022975334793, solver=liblinear, total=   0.0s\n",
      "[CV] C=117.21022975334793, solver=liblinear ..........................\n",
      "[CV] ........... C=117.21022975334793, solver=liblinear, total=   0.0s\n",
      "[CV] C=117.21022975334793, solver=liblinear ..........................\n",
      "[CV] ........... C=117.21022975334793, solver=liblinear, total=   0.0s\n",
      "[CV] C=221.22162910704503, solver=liblinear ..........................\n",
      "[CV] ........... C=221.22162910704503, solver=liblinear, total=   0.0s\n",
      "[CV] C=221.22162910704503, solver=liblinear ..........................\n",
      "[CV] ........... C=221.22162910704503, solver=liblinear, total=   0.0s\n",
      "[CV] C=221.22162910704503, solver=liblinear ..........................\n",
      "[CV] ........... C=221.22162910704503, solver=liblinear, total=   0.0s\n",
      "[CV] C=221.22162910704503, solver=liblinear ..........................\n",
      "[CV] ........... C=221.22162910704503, solver=liblinear, total=   0.0s\n",
      "[CV] C=221.22162910704503, solver=liblinear ..........................\n",
      "[CV] ........... C=221.22162910704503, solver=liblinear, total=   0.0s\n",
      "[CV] C=417.53189365604004, solver=liblinear ..........................\n",
      "[CV] ........... C=417.53189365604004, solver=liblinear, total=   0.0s\n",
      "[CV] C=417.53189365604004, solver=liblinear ..........................\n",
      "[CV] ........... C=417.53189365604004, solver=liblinear, total=   0.0s\n",
      "[CV] C=417.53189365604004, solver=liblinear ..........................\n",
      "[CV] ........... C=417.53189365604004, solver=liblinear, total=   0.0s\n",
      "[CV] C=417.53189365604004, solver=liblinear ..........................\n",
      "[CV] ........... C=417.53189365604004, solver=liblinear, total=   0.0s\n",
      "[CV] C=417.53189365604004, solver=liblinear ..........................\n",
      "[CV] ........... C=417.53189365604004, solver=liblinear, total=   0.0s\n",
      "[CV] C=788.0462815669904, solver=liblinear ...........................\n",
      "[CV] ............ C=788.0462815669904, solver=liblinear, total=   0.0s\n",
      "[CV] C=788.0462815669904, solver=liblinear ...........................\n",
      "[CV] ............ C=788.0462815669904, solver=liblinear, total=   0.0s\n",
      "[CV] C=788.0462815669904, solver=liblinear ...........................\n",
      "[CV] ............ C=788.0462815669904, solver=liblinear, total=   0.0s\n",
      "[CV] C=788.0462815669904, solver=liblinear ...........................\n",
      "[CV] ............ C=788.0462815669904, solver=liblinear, total=   0.0s\n",
      "[CV] C=788.0462815669904, solver=liblinear ...........................\n",
      "[CV] ............ C=788.0462815669904, solver=liblinear, total=   0.0s\n",
      "[CV] C=1487.3521072935118, solver=liblinear ..........................\n",
      "[CV] ........... C=1487.3521072935118, solver=liblinear, total=   0.0s\n",
      "[CV] C=1487.3521072935118, solver=liblinear ..........................\n"
     ]
    },
    {
     "name": "stdout",
     "output_type": "stream",
     "text": [
      "[CV] ........... C=1487.3521072935118, solver=liblinear, total=   0.0s\n",
      "[CV] C=1487.3521072935118, solver=liblinear ..........................\n",
      "[CV] ........... C=1487.3521072935118, solver=liblinear, total=   0.0s\n",
      "[CV] C=1487.3521072935118, solver=liblinear ..........................\n",
      "[CV] ........... C=1487.3521072935118, solver=liblinear, total=   0.0s\n",
      "[CV] C=1487.3521072935118, solver=liblinear ..........................\n",
      "[CV] ........... C=1487.3521072935118, solver=liblinear, total=   0.0s\n",
      "[CV] C=2807.2162039411755, solver=liblinear ..........................\n",
      "[CV] ........... C=2807.2162039411755, solver=liblinear, total=   0.0s\n",
      "[CV] C=2807.2162039411755, solver=liblinear ..........................\n",
      "[CV] ........... C=2807.2162039411755, solver=liblinear, total=   0.0s\n",
      "[CV] C=2807.2162039411755, solver=liblinear ..........................\n",
      "[CV] ........... C=2807.2162039411755, solver=liblinear, total=   0.0s\n",
      "[CV] C=2807.2162039411755, solver=liblinear ..........................\n",
      "[CV] ........... C=2807.2162039411755, solver=liblinear, total=   0.0s\n",
      "[CV] C=2807.2162039411755, solver=liblinear ..........................\n",
      "[CV] ........... C=2807.2162039411755, solver=liblinear, total=   0.0s\n",
      "[CV] C=5298.316906283702, solver=liblinear ...........................\n",
      "[CV] ............ C=5298.316906283702, solver=liblinear, total=   0.0s\n",
      "[CV] C=5298.316906283702, solver=liblinear ...........................\n",
      "[CV] ............ C=5298.316906283702, solver=liblinear, total=   0.0s\n",
      "[CV] C=5298.316906283702, solver=liblinear ...........................\n",
      "[CV] ............ C=5298.316906283702, solver=liblinear, total=   0.0s\n",
      "[CV] C=5298.316906283702, solver=liblinear ...........................\n",
      "[CV] ............ C=5298.316906283702, solver=liblinear, total=   0.0s\n",
      "[CV] C=5298.316906283702, solver=liblinear ...........................\n",
      "[CV] ............ C=5298.316906283702, solver=liblinear, total=   0.0s\n",
      "[CV] C=10000.0, solver=liblinear .....................................\n",
      "[CV] ...................... C=10000.0, solver=liblinear, total=   0.0s\n",
      "[CV] C=10000.0, solver=liblinear .....................................\n",
      "[CV] ...................... C=10000.0, solver=liblinear, total=   0.0s\n",
      "[CV] C=10000.0, solver=liblinear .....................................\n",
      "[CV] ...................... C=10000.0, solver=liblinear, total=   0.0s\n",
      "[CV] C=10000.0, solver=liblinear .....................................\n",
      "[CV] ...................... C=10000.0, solver=liblinear, total=   0.0s\n",
      "[CV] C=10000.0, solver=liblinear .....................................\n",
      "[CV] ...................... C=10000.0, solver=liblinear, total=   0.0s\n"
     ]
    },
    {
     "name": "stderr",
     "output_type": "stream",
     "text": [
      "[Parallel(n_jobs=1)]: Done 150 out of 150 | elapsed:    0.6s finished\n"
     ]
    },
    {
     "data": {
      "text/plain": [
       "GridSearchCV(cv=5, error_score=nan,\n",
       "             estimator=LogisticRegression(C=1.0, class_weight=None, dual=False,\n",
       "                                          fit_intercept=True,\n",
       "                                          intercept_scaling=1, l1_ratio=None,\n",
       "                                          max_iter=100, multi_class='auto',\n",
       "                                          n_jobs=None, penalty='l2',\n",
       "                                          random_state=None, solver='lbfgs',\n",
       "                                          tol=0.0001, verbose=0,\n",
       "                                          warm_start=False),\n",
       "             iid='deprecated', n_jobs=None,\n",
       "             param_grid={'C': array([1.00000000e-04, 1.8...\n",
       "       2.04335972e-01, 3.85662042e-01, 7.27895384e-01, 1.37382380e+00,\n",
       "       2.59294380e+00, 4.89390092e+00, 9.23670857e+00, 1.74332882e+01,\n",
       "       3.29034456e+01, 6.21016942e+01, 1.17210230e+02, 2.21221629e+02,\n",
       "       4.17531894e+02, 7.88046282e+02, 1.48735211e+03, 2.80721620e+03,\n",
       "       5.29831691e+03, 1.00000000e+04]),\n",
       "                         'solver': ['liblinear']},\n",
       "             pre_dispatch='2*n_jobs', refit=True, return_train_score=False,\n",
       "             scoring=None, verbose=2)"
      ]
     },
     "execution_count": 118,
     "metadata": {},
     "output_type": "execute_result"
    }
   ],
   "source": [
    "# Different hyperparameters for LogisticRegression\n",
    "log_reg_grid={\"C\": np.logspace(-4,4,30),\n",
    "             \"solver\": [\"liblinear\"]}\n",
    "\n",
    "# Setup random hyperparameter search for LogisticRegression\n",
    "gs_log_reg =GridSearchCV(LogisticRegression(),\n",
    "                               param_grid=log_reg_grid,\n",
    "                               cv=5,\n",
    "                               verbose=2)\n",
    "\n",
    "# Fit random hyperparameter search model for LogisticRegression\n",
    "gs_log_reg.fit(X_train, y_train)"
   ]
  },
  {
   "cell_type": "code",
   "execution_count": 119,
   "metadata": {},
   "outputs": [
    {
     "data": {
      "text/plain": [
       "{'C': 0.20433597178569418, 'solver': 'liblinear'}"
      ]
     },
     "execution_count": 119,
     "metadata": {},
     "output_type": "execute_result"
    }
   ],
   "source": [
    "gs_log_reg.best_params_"
   ]
  },
  {
   "cell_type": "code",
   "execution_count": 142,
   "metadata": {},
   "outputs": [
    {
     "data": {
      "text/plain": [
       "0.8852459016393442"
      ]
     },
     "execution_count": 142,
     "metadata": {},
     "output_type": "execute_result"
    }
   ],
   "source": [
    "gs_log_reg.score(X_test, y_test)"
   ]
  },
  {
   "cell_type": "markdown",
   "metadata": {},
   "source": [
    "### Evaluate the model beyond accuracy"
   ]
  },
  {
   "cell_type": "code",
   "execution_count": 122,
   "metadata": {},
   "outputs": [],
   "source": [
    "# Make predictions with tuned model\n",
    "y_preds = gs_log_reg.predict(X_test)"
   ]
  },
  {
   "cell_type": "markdown",
   "metadata": {},
   "source": [
    "#### ROC Curve"
   ]
  },
  {
   "cell_type": "code",
   "execution_count": 126,
   "metadata": {},
   "outputs": [
    {
     "data": {
      "text/plain": [
       "<sklearn.metrics._plot.roc_curve.RocCurveDisplay at 0x1f84d396280>"
      ]
     },
     "execution_count": 126,
     "metadata": {},
     "output_type": "execute_result"
    },
    {
     "data": {
      "image/png": "[encoded data removed]",
      "text/plain": [
       "<Figure size 432x288 with 1 Axes>"
      ]
     },
     "metadata": {
      "needs_background": "light"
     },
     "output_type": "display_data"
    }
   ],
   "source": [
    "# Plot ROC Curver and calculates AUC\n",
    "plot_roc_curve(gs_log_reg, X_test, y_test)\n"
   ]
  },
  {
   "cell_type": "code",
   "execution_count": 140,
   "metadata": {},
   "outputs": [
    {
     "data": {
      "image/png": "[encoded data removed]",
      "text/plain": [
       "<Figure size 216x216 with 1 Axes>"
      ]
     },
     "metadata": {},
     "output_type": "display_data"
    }
   ],
   "source": [
    "sns.set(font_scale=1.5)\n",
    "\n",
    "def plot_conf_mat(y_test, y_preds):\n",
    "    \"\"\"\n",
    "    Plot  confusion matrix using Seaborn's heatmap\n",
    "    \"\"\"\n",
    "    fig, ax = plt.subplots(figsize=(3,3))\n",
    "    ax = sns.heatmap(confusion_matrix(y_test, y_preds),\n",
    "                     annot=True,\n",
    "                     cbar=False)\n",
    "    plt.xlabel(\"True Label\")\n",
    "    plt.ylabel(\"Predicted Label\")\n",
    "\n",
    "plot_conf_mat(y_test, y_preds)"
   ]
  },
  {
   "cell_type": "markdown",
   "metadata": {},
   "source": [
    "#### Classification report"
   ]
  },
  {
   "cell_type": "code",
   "execution_count": 143,
   "metadata": {},
   "outputs": [
    {
     "name": "stdout",
     "output_type": "stream",
     "text": [
      "              precision    recall  f1-score   support\n",
      "\n",
      "           0       0.89      0.86      0.88        29\n",
      "           1       0.88      0.91      0.89        32\n",
      "\n",
      "    accuracy                           0.89        61\n",
      "   macro avg       0.89      0.88      0.88        61\n",
      "weighted avg       0.89      0.89      0.89        61\n",
      "\n"
     ]
    }
   ],
   "source": [
    "print(classification_report(y_test, y_preds))"
   ]
  },
  {
   "cell_type": "markdown",
   "metadata": {},
   "source": [
    "Calculate evaluation metrics using cross-validation"
   ]
  },
  {
   "cell_type": "code",
   "execution_count": 144,
   "metadata": {},
   "outputs": [
    {
     "data": {
      "text/plain": [
       "{'C': 0.20433597178569418, 'solver': 'liblinear'}"
      ]
     },
     "execution_count": 144,
     "metadata": {},
     "output_type": "execute_result"
    }
   ],
   "source": [
    "# Check best hyperparameters\n",
    "gs_log_reg.best_params_"
   ]
  },
  {
   "cell_type": "code",
   "execution_count": 162,
   "metadata": {},
   "outputs": [],
   "source": [
    "# Create a new classififer with best parameters\n",
    "model = LogisticRegression(C=0.20433597178569418,\n",
    "                           solver=\"liblinear\")"
   ]
  },
  {
   "cell_type": "code",
   "execution_count": 179,
   "metadata": {},
   "outputs": [],
   "source": [
    "# Cross-validated accuracy\n",
    "cv_acc = cross_val_score(model, X, y, cv=5, scoring=\"accuracy\")\n",
    "cv_acc = np.mean(cv_acc)"
   ]
  },
  {
   "cell_type": "code",
   "execution_count": 180,
   "metadata": {},
   "outputs": [],
   "source": [
    "# Cross-validated precision\n",
    "cv_precision = cross_val_score(model, X, y, cv=5, scoring=\"precision\")\n",
    "cv_precision = np.mean(cv_precision)"
   ]
  },
  {
   "cell_type": "code",
   "execution_count": 181,
   "metadata": {},
   "outputs": [],
   "source": [
    "# Cross-validated f1\n",
    "cv_f1 = cross_val_score(model, X, y, cv=5, scoring=\"f1\")\n",
    "cv_f1 = np.mean(cv_f1)"
   ]
  },
  {
   "cell_type": "code",
   "execution_count": 182,
   "metadata": {},
   "outputs": [],
   "source": [
    "# Cross-validated recall\n",
    "cv_recall = cross_val_score(model, X, y, cv=5, scoring=\"recall\")\n",
    "cv_recall = np.mean(cv_recall)"
   ]
  },
  {
   "cell_type": "code",
   "execution_count": 184,
   "metadata": {},
   "outputs": [
    {
     "data": {
      "text/plain": [
       "<matplotlib.axes._subplots.AxesSubplot at 0x1f84a6b0880>"
      ]
     },
     "execution_count": 184,
     "metadata": {},
     "output_type": "execute_result"
    },
    {
     "data": {
      "image/png": "[encoded data removed]",
      "text/plain": [
       "<Figure size 432x288 with 1 Axes>"
      ]
     },
     "metadata": {
      "needs_background": "light"
     },
     "output_type": "display_data"
    }
   ],
   "source": [
    "# Visualise cross validated metrics\n",
    "cv_metrics = pd.DataFrame({\"Accuracy\": cv_acc,\n",
    "                           \"Precision\": cv_precision,\n",
    "                           \"Recall\": cv_recall,\n",
    "                           \"F1\": cv_f1},\n",
    "                           index=[0])\n",
    "cv_metrics.T.plot.bar(title=\"Cross validated metrics\",\n",
    "                     legend=False)"
   ]
  },
  {
   "cell_type": "markdown",
   "metadata": {},
   "source": [
    "### Feature Importance\n",
    "\n",
    "The another way determining which features contributed to the most outcomes of the model."
   ]
  },
  {
   "cell_type": "code",
   "execution_count": 186,
   "metadata": {},
   "outputs": [],
   "source": [
    "# Create a new classififer with best parameters\n",
    "model = LogisticRegression(C=0.20433597178569418,\n",
    "                           solver=\"liblinear\")\n",
    "\n",
    "model.fit(X_train, y_train);"
   ]
  },
  {
   "cell_type": "code",
   "execution_count": 188,
   "metadata": {},
   "outputs": [
    {
     "data": {
      "text/plain": [
       "array([[ 0.00316728, -0.86044651,  0.66067041, -0.01156993, -0.00166374,\n",
       "         0.04386107,  0.31275847,  0.02459361, -0.6041308 , -0.56862804,\n",
       "         0.45051628, -0.63609897, -0.67663373]])"
      ]
     },
     "execution_count": 188,
     "metadata": {},
     "output_type": "execute_result"
    }
   ],
   "source": [
    "# Check coef\n",
    "model.coef_"
   ]
  },
  {
   "cell_type": "code",
   "execution_count": 190,
   "metadata": {},
   "outputs": [
    {
     "data": {
      "text/plain": [
       "{'age': 0.0031672801993431563,\n",
       " 'sex': -0.8604465072345515,\n",
       " 'cp': 0.6606704082033799,\n",
       " 'trestbps': -0.01156993168080875,\n",
       " 'chol': -0.001663744504776871,\n",
       " 'fbs': 0.043861071652469864,\n",
       " 'restecg': 0.31275846822418324,\n",
       " 'thalach': 0.024593613737779126,\n",
       " 'exang': -0.6041308000615746,\n",
       " 'oldpeak': -0.5686280368396555,\n",
       " 'slope': 0.4505162797258308,\n",
       " 'ca': -0.6360989676086223,\n",
       " 'thal': -0.6766337263029825}"
      ]
     },
     "execution_count": 190,
     "metadata": {},
     "output_type": "execute_result"
    }
   ],
   "source": [
    "# Match coef's of features to columns\n",
    "feature_dict = dict(zip(df.columns, list(model.coef_[0])))\n",
    "feature_dict"
   ]
  },
  {
   "cell_type": "code",
   "execution_count": 192,
   "metadata": {},
   "outputs": [
    {
     "data": {
      "image/png": "[encoded data removed]",
      "text/plain": [
       "<Figure size 432x288 with 1 Axes>"
      ]
     },
     "metadata": {
      "needs_background": "light"
     },
     "output_type": "display_data"
    }
   ],
   "source": [
    "# Visualise feature importance\n",
    "feature_df =pd.DataFrame(feature_dict, index=[0])\n",
    "feature_df.T.plot.bar(title=\"Feature Importance\", legend=False);"
   ]
  },
  {
   "cell_type": "code",
   "execution_count": null,
   "metadata": {},
   "outputs": [],
   "source": []
  }
 ],
 "metadata": {
  "kernelspec": {
   "display_name": "Python 3",
   "language": "python",
   "name": "python3"
  },
  "language_info": {
   "codemirror_mode": {
    "name": "ipython",
    "version": 3
   },
   "file_extension": ".py",
   "mimetype": "text/x-python",
   "name": "python",
   "nbconvert_exporter": "python",
   "pygments_lexer": "ipython3",
   "version": "3.8.3"
  }
 },
 "nbformat": 4,
 "nbformat_minor": 4
}
